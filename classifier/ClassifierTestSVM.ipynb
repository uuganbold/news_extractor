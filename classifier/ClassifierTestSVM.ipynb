{
 "cells": [
  {
   "cell_type": "markdown",
   "metadata": {},
   "source": [
    "# New Content extractor\n",
    "\n",
    "In this project, I set a goal to build a model that I can extract title and main textual content from news web page. When we crawl websites to build a search engine or other purpose, it turns out very difficult because if noisy contents not related to the main article. It will be useful for us on that occasions. "
   ]
  },
  {
   "cell_type": "markdown",
   "metadata": {},
   "source": [
    "## Approach\n",
    "When we visit websites, we can distinguish easily title and content of the main article. My goal is to make the machine have that sense. \n",
    "\n",
    "In my opinion, we may make a conclusion based on the visual perception. For example: position on the display, size of the text, color and weight of the text etc. \n",
    "\n",
    "On top of that, I think developers adopt similar practices to build their web pages. There may be some similarity including similar html tags to create similar components, html elements' hierarchical structures etc.\n",
    "\n",
    "Therefore, my model will be trained to understand that sense and similarity.\n",
    "\n",
    "And also one thing to notice is that I will train two models because I am looking for title and contents from the page"
   ]
  },
  {
   "cell_type": "markdown",
   "metadata": {},
   "source": [
    "First, I will train the model on a dataset that is extracted from Mongolian news websites because it was comfortable for me. I hope it will work on any language because HTML is universal and once I reached my goal I will retrain my model on websites from other languages if it is neccessary. "
   ]
  },
  {
   "cell_type": "markdown",
   "metadata": {},
   "source": [
    "## Dataset\n",
    "\n",
    "In order to create my dataset for the training, I wrote a very simple Javascript (Typescript) webscraper which opens a browser (using [puppeteer](https://github.com/GoogleChrome/puppeteer)), loads websites and collects HTML elements and their attributes. You can see my webscraper and its usage from [here](../webscraper)\n",
    "\n",
    "#### Attributes\n",
    "**site**: the website's name from which the element is extracted<br/>\n",
    "**url**: the web url from which the element is extracted<br/>\n",
    "**tagName**:the element's html tag<br/>\n",
    "**left**: X coordinate of the top-left point of the element on the page<br/>\n",
    "**top**:Y coordinate of the top-left point of the element on the page<br/>\n",
    "**width**:the element's width on the page<br/>\n",
    "**height**:the element's height on the page<br/>\n",
    "**children**:count of direct child elements<br/>\n",
    "**textCount**:length of the text in the element<br/>\n",
    "**parentCount**:count of the ancestor elements<br/>\n",
    "**fontSize**:font size of the text<br/>\n",
    "**linkCount**:count of the &#60;a&#62; elements in the element<br/>\n",
    "**paragraphCount**:count of the &#60;p&#62; elements in the element<br/>\n",
    "**imageCount**:count of the &#60;img&#62; elements in the element<br/>\n",
    "**colorRed**:the red attribute of RGB color of the texts in the element<br/>\n",
    "**colorGreen**:the green attribute of RGB color of the texts in the element<br/>\n",
    "**colorBlue**:the blue attribute of RGB color of the texts in the element<br/>\n",
    "**backgroundRed**:the red attribute of RGB color of the background of the element<br/>\n",
    "**backgroundGreen**:the green attribute of RGB color of the background of the element<br/>\n",
    "**backgroundBlue**:the blue attribute of RGB color of the background of the element<br/>\n",
    "**backgroundAlpha**:the transparency attribute of the background of the element<br/>\n",
    "**textAlign**:text alignment of the text in the element<br/>\n",
    "**marginTop**:top margin of the element<br/>\n",
    "**marginRight**:right margin of the element<br/>\n",
    "**marginBottom**:bottom margin of the element<br/>\n",
    "**marginLeft**:left margin of the element<br/>\n",
    "**paddingTop**:top padding of the element<br/>\n",
    "**paddingRight**:right padding of the element<br/>\n",
    "**paddingBottom**:bottom padding of the element<br/>\n",
    "**paddingLeft**:left padding of the element<br/>\n",
    "**descendants**:count of descendant elements<br/>\n",
    "**relPosX**: Relative position to the page<br/>\n",
    "**relPosY**: Relative positioin to the page<br/>\n",
    "**title**: whether the element is title of the article <br/>\n",
    "**content**:whether the element is main content of the article"
   ]
  },
  {
   "cell_type": "markdown",
   "metadata": {},
   "source": [
    "The dataset is pretty imblanced because in one web page only one element is title and another element is content while page contains from several hundreds to several thousand elements. "
   ]
  },
  {
   "cell_type": "code",
   "execution_count": 3,
   "metadata": {
    "pycharm": {
     "is_executing": false
    }
   },
   "outputs": [
    {
     "name": "stdout",
     "output_type": "stream",
     "text": [
      "Index(['site', 'url', 'tagName', 'left', 'top', 'width', 'height', 'children',\n",
      "       'textCount', 'parentCount', 'fontSize', 'linkCount', 'paragraphCount',\n",
      "       'imageCount', 'colorRed', 'colorGreen', 'colorBlue', 'backgroundRed',\n",
      "       'backgroundGreen', 'backgroundBlue', 'backgroundAlpha', 'textAlign',\n",
      "       'marginTop', 'marginRight', 'marginBottom', 'marginLeft', 'paddingTop',\n",
      "       'paddingRight', 'paddingBottom', 'paddingLeft', 'descendants',\n",
      "       'relPosX', 'relPosY', 'title', 'content'],\n",
      "      dtype='object')\n",
      "(101211, 35)\n",
      "['ikon' 'gogo' 'news' 'peak' 'polit' 'zuv' 'updown' 'newspress' 'gereg'\n",
      " 'nertur' 'livetv' 'sonin' 'olloo' 'itoim' 'medee' 'arslan' 'udriintoim'\n",
      " 'mongolcom' 'news1' 'zarig' 'sosa' 'dardas' 'mminfo' 'asuudal' 'zindaa'\n",
      " 'seruuleg' 'newsmedia' 'bolod' 'inews' 'paparatsi' 'unuudur'\n",
      " 'niigmiintoli' '24barimt' 'zaluu' 'amjilt' 'tur' 'fact' 'shuurhai'\n",
      " 'control' 'jirgee' 'tonshuul' 'mongolcomment' 'scandal' 'miss' 'ontslokh'\n",
      " 'inet' 'kingnews' 'tusgaar' 'murch' 'nytimes' 'cnn' 'hill' 'nrp'\n",
      " 'foxnews' 'nbcnews' 'cnstock' 'workercn' 'zjol' 'sina' 'xinhuanet'\n",
      " 't-online' 'sueddeutsche' 'stern' 'tagesschau' 'sankei' 'ismedia'\n",
      " 'yahoojp' 'yomiuri' 'rocketnews24' '444hu' '24hu' 'portfolio' 'indexhu'\n",
      " 'origo' 'intelligentcio' 'waltainfo' 'borkena' 'addisstandard' 'ezega'\n",
      " 'allafrica' 'denik' 'ceskenoviny' 'echo24' 'ceskatelevize' 'novinky'\n",
      " 'expres' 'nova' 'informador' 'excelsior' 'unotv' 'milenio' 'televisa'\n",
      " 'publimetro' 'hipertextual' 'unocero' 'usatoday' 'slate' 'guardian'\n",
      " 'unen' 'spiegel']\n"
     ]
    }
   ],
   "source": [
    "import numpy as np\n",
    "import pandas as pd\n",
    "import matplotlib.pyplot as plt\n",
    "data = pd.read_csv(\"../webscraper/out1.csv\", quotechar='\"', skipinitialspace=True)\n",
    "\n",
    "print(data.columns)\n",
    "print(data.shape)\n",
    "print(data['site'].unique())"
   ]
  },
  {
   "cell_type": "markdown",
   "metadata": {
    "pycharm": {
     "name": "#%% md\n"
    }
   },
   "source": [
    "## Data Preprocessing"
   ]
  },
  {
   "cell_type": "markdown",
   "metadata": {},
   "source": [
    "In this phase, I will prepare the dataset for the training. "
   ]
  },
  {
   "cell_type": "markdown",
   "metadata": {
    "pycharm": {
     "name": "#%% md\n"
    }
   },
   "source": [
    "### 1. Removing not useful fields.\n",
    "Of course, our model should work free from the web site. So I will remove *url* attribute. The *site* attribute will be used when separating testing and training dataset, so it will be left so far."
   ]
  },
  {
   "cell_type": "code",
   "execution_count": 4,
   "metadata": {
    "pycharm": {
     "is_executing": false,
     "name": "#%%\n"
    }
   },
   "outputs": [
    {
     "data": {
      "text/html": [
       "<div>\n",
       "<style scoped>\n",
       "    .dataframe tbody tr th:only-of-type {\n",
       "        vertical-align: middle;\n",
       "    }\n",
       "\n",
       "    .dataframe tbody tr th {\n",
       "        vertical-align: top;\n",
       "    }\n",
       "\n",
       "    .dataframe thead th {\n",
       "        text-align: right;\n",
       "    }\n",
       "</style>\n",
       "<table border=\"1\" class=\"dataframe\">\n",
       "  <thead>\n",
       "    <tr style=\"text-align: right;\">\n",
       "      <th></th>\n",
       "      <th>site</th>\n",
       "      <th>tagName</th>\n",
       "      <th>left</th>\n",
       "      <th>top</th>\n",
       "      <th>width</th>\n",
       "      <th>height</th>\n",
       "      <th>children</th>\n",
       "      <th>textCount</th>\n",
       "      <th>parentCount</th>\n",
       "      <th>fontSize</th>\n",
       "      <th>...</th>\n",
       "      <th>marginLeft</th>\n",
       "      <th>paddingTop</th>\n",
       "      <th>paddingRight</th>\n",
       "      <th>paddingBottom</th>\n",
       "      <th>paddingLeft</th>\n",
       "      <th>descendants</th>\n",
       "      <th>relPosX</th>\n",
       "      <th>relPosY</th>\n",
       "      <th>title</th>\n",
       "      <th>content</th>\n",
       "    </tr>\n",
       "  </thead>\n",
       "  <tbody>\n",
       "    <tr>\n",
       "      <td>0</td>\n",
       "      <td>ikon</td>\n",
       "      <td>DIV</td>\n",
       "      <td>0.0</td>\n",
       "      <td>35.0</td>\n",
       "      <td>1920</td>\n",
       "      <td>0</td>\n",
       "      <td>0</td>\n",
       "      <td>0</td>\n",
       "      <td>1</td>\n",
       "      <td>12.0</td>\n",
       "      <td>...</td>\n",
       "      <td>0</td>\n",
       "      <td>0</td>\n",
       "      <td>0</td>\n",
       "      <td>0</td>\n",
       "      <td>0</td>\n",
       "      <td>0</td>\n",
       "      <td>0.000000</td>\n",
       "      <td>0.004624</td>\n",
       "      <td>False</td>\n",
       "      <td>False</td>\n",
       "    </tr>\n",
       "    <tr>\n",
       "      <td>1</td>\n",
       "      <td>ikon</td>\n",
       "      <td>DIV</td>\n",
       "      <td>0.0</td>\n",
       "      <td>35.0</td>\n",
       "      <td>1920</td>\n",
       "      <td>7380</td>\n",
       "      <td>2</td>\n",
       "      <td>2361</td>\n",
       "      <td>1</td>\n",
       "      <td>12.0</td>\n",
       "      <td>...</td>\n",
       "      <td>0</td>\n",
       "      <td>0</td>\n",
       "      <td>0</td>\n",
       "      <td>0</td>\n",
       "      <td>0</td>\n",
       "      <td>458</td>\n",
       "      <td>0.000000</td>\n",
       "      <td>0.004624</td>\n",
       "      <td>False</td>\n",
       "      <td>False</td>\n",
       "    </tr>\n",
       "    <tr>\n",
       "      <td>2</td>\n",
       "      <td>ikon</td>\n",
       "      <td>DIV</td>\n",
       "      <td>0.0</td>\n",
       "      <td>0.0</td>\n",
       "      <td>1920</td>\n",
       "      <td>60</td>\n",
       "      <td>1</td>\n",
       "      <td>5</td>\n",
       "      <td>2</td>\n",
       "      <td>12.0</td>\n",
       "      <td>...</td>\n",
       "      <td>0</td>\n",
       "      <td>0</td>\n",
       "      <td>0</td>\n",
       "      <td>0</td>\n",
       "      <td>0</td>\n",
       "      <td>18</td>\n",
       "      <td>0.000000</td>\n",
       "      <td>0.000000</td>\n",
       "      <td>False</td>\n",
       "      <td>False</td>\n",
       "    </tr>\n",
       "    <tr>\n",
       "      <td>3</td>\n",
       "      <td>ikon</td>\n",
       "      <td>DIV</td>\n",
       "      <td>240.0</td>\n",
       "      <td>0.0</td>\n",
       "      <td>1440</td>\n",
       "      <td>60</td>\n",
       "      <td>3</td>\n",
       "      <td>5</td>\n",
       "      <td>3</td>\n",
       "      <td>12.0</td>\n",
       "      <td>...</td>\n",
       "      <td>240</td>\n",
       "      <td>0</td>\n",
       "      <td>0</td>\n",
       "      <td>0</td>\n",
       "      <td>0</td>\n",
       "      <td>17</td>\n",
       "      <td>0.125000</td>\n",
       "      <td>0.000000</td>\n",
       "      <td>False</td>\n",
       "      <td>False</td>\n",
       "    </tr>\n",
       "    <tr>\n",
       "      <td>4</td>\n",
       "      <td>ikon</td>\n",
       "      <td>DIV</td>\n",
       "      <td>258.0</td>\n",
       "      <td>10.0</td>\n",
       "      <td>103</td>\n",
       "      <td>38</td>\n",
       "      <td>1</td>\n",
       "      <td>0</td>\n",
       "      <td>4</td>\n",
       "      <td>12.0</td>\n",
       "      <td>...</td>\n",
       "      <td>18</td>\n",
       "      <td>0</td>\n",
       "      <td>0</td>\n",
       "      <td>0</td>\n",
       "      <td>0</td>\n",
       "      <td>3</td>\n",
       "      <td>0.134375</td>\n",
       "      <td>0.001321</td>\n",
       "      <td>False</td>\n",
       "      <td>False</td>\n",
       "    </tr>\n",
       "  </tbody>\n",
       "</table>\n",
       "<p>5 rows × 34 columns</p>\n",
       "</div>"
      ],
      "text/plain": [
       "   site tagName   left   top  width  height  children  textCount  parentCount  \\\n",
       "0  ikon     DIV    0.0  35.0   1920       0         0          0            1   \n",
       "1  ikon     DIV    0.0  35.0   1920    7380         2       2361            1   \n",
       "2  ikon     DIV    0.0   0.0   1920      60         1          5            2   \n",
       "3  ikon     DIV  240.0   0.0   1440      60         3          5            3   \n",
       "4  ikon     DIV  258.0  10.0    103      38         1          0            4   \n",
       "\n",
       "   fontSize  ...  marginLeft  paddingTop  paddingRight  paddingBottom  \\\n",
       "0      12.0  ...           0           0             0              0   \n",
       "1      12.0  ...           0           0             0              0   \n",
       "2      12.0  ...           0           0             0              0   \n",
       "3      12.0  ...         240           0             0              0   \n",
       "4      12.0  ...          18           0             0              0   \n",
       "\n",
       "   paddingLeft  descendants   relPosX   relPosY  title  content  \n",
       "0            0            0  0.000000  0.004624  False    False  \n",
       "1            0          458  0.000000  0.004624  False    False  \n",
       "2            0           18  0.000000  0.000000  False    False  \n",
       "3            0           17  0.125000  0.000000  False    False  \n",
       "4            0            3  0.134375  0.001321  False    False  \n",
       "\n",
       "[5 rows x 34 columns]"
      ]
     },
     "execution_count": 4,
     "metadata": {},
     "output_type": "execute_result"
    }
   ],
   "source": [
    "data=data.drop(['url'],axis=1)\n",
    "data.head()"
   ]
  },
  {
   "cell_type": "markdown",
   "metadata": {
    "pycharm": {
     "name": "#%% md\n"
    }
   },
   "source": [
    "### 2.Mapping boolean class to numerical class.\n",
    "*title, content* columns are classes we need to predict. It holds boolean values and it will work with classification. So technically I do not need to map them into numerical values, but I will map them into 0,1 just for convenience."
   ]
  },
  {
   "cell_type": "code",
   "execution_count": 5,
   "metadata": {
    "pycharm": {
     "is_executing": false,
     "name": "#%%\n"
    }
   },
   "outputs": [
    {
     "data": {
      "text/html": [
       "<div>\n",
       "<style scoped>\n",
       "    .dataframe tbody tr th:only-of-type {\n",
       "        vertical-align: middle;\n",
       "    }\n",
       "\n",
       "    .dataframe tbody tr th {\n",
       "        vertical-align: top;\n",
       "    }\n",
       "\n",
       "    .dataframe thead th {\n",
       "        text-align: right;\n",
       "    }\n",
       "</style>\n",
       "<table border=\"1\" class=\"dataframe\">\n",
       "  <thead>\n",
       "    <tr style=\"text-align: right;\">\n",
       "      <th></th>\n",
       "      <th>site</th>\n",
       "      <th>tagName</th>\n",
       "      <th>left</th>\n",
       "      <th>top</th>\n",
       "      <th>width</th>\n",
       "      <th>height</th>\n",
       "      <th>children</th>\n",
       "      <th>textCount</th>\n",
       "      <th>parentCount</th>\n",
       "      <th>fontSize</th>\n",
       "      <th>...</th>\n",
       "      <th>marginLeft</th>\n",
       "      <th>paddingTop</th>\n",
       "      <th>paddingRight</th>\n",
       "      <th>paddingBottom</th>\n",
       "      <th>paddingLeft</th>\n",
       "      <th>descendants</th>\n",
       "      <th>relPosX</th>\n",
       "      <th>relPosY</th>\n",
       "      <th>title</th>\n",
       "      <th>content</th>\n",
       "    </tr>\n",
       "  </thead>\n",
       "  <tbody>\n",
       "    <tr>\n",
       "      <td>0</td>\n",
       "      <td>ikon</td>\n",
       "      <td>DIV</td>\n",
       "      <td>0.0</td>\n",
       "      <td>35.0</td>\n",
       "      <td>1920</td>\n",
       "      <td>0</td>\n",
       "      <td>0</td>\n",
       "      <td>0</td>\n",
       "      <td>1</td>\n",
       "      <td>12.0</td>\n",
       "      <td>...</td>\n",
       "      <td>0</td>\n",
       "      <td>0</td>\n",
       "      <td>0</td>\n",
       "      <td>0</td>\n",
       "      <td>0</td>\n",
       "      <td>0</td>\n",
       "      <td>0.000000</td>\n",
       "      <td>0.004624</td>\n",
       "      <td>0</td>\n",
       "      <td>0</td>\n",
       "    </tr>\n",
       "    <tr>\n",
       "      <td>1</td>\n",
       "      <td>ikon</td>\n",
       "      <td>DIV</td>\n",
       "      <td>0.0</td>\n",
       "      <td>35.0</td>\n",
       "      <td>1920</td>\n",
       "      <td>7380</td>\n",
       "      <td>2</td>\n",
       "      <td>2361</td>\n",
       "      <td>1</td>\n",
       "      <td>12.0</td>\n",
       "      <td>...</td>\n",
       "      <td>0</td>\n",
       "      <td>0</td>\n",
       "      <td>0</td>\n",
       "      <td>0</td>\n",
       "      <td>0</td>\n",
       "      <td>458</td>\n",
       "      <td>0.000000</td>\n",
       "      <td>0.004624</td>\n",
       "      <td>0</td>\n",
       "      <td>0</td>\n",
       "    </tr>\n",
       "    <tr>\n",
       "      <td>2</td>\n",
       "      <td>ikon</td>\n",
       "      <td>DIV</td>\n",
       "      <td>0.0</td>\n",
       "      <td>0.0</td>\n",
       "      <td>1920</td>\n",
       "      <td>60</td>\n",
       "      <td>1</td>\n",
       "      <td>5</td>\n",
       "      <td>2</td>\n",
       "      <td>12.0</td>\n",
       "      <td>...</td>\n",
       "      <td>0</td>\n",
       "      <td>0</td>\n",
       "      <td>0</td>\n",
       "      <td>0</td>\n",
       "      <td>0</td>\n",
       "      <td>18</td>\n",
       "      <td>0.000000</td>\n",
       "      <td>0.000000</td>\n",
       "      <td>0</td>\n",
       "      <td>0</td>\n",
       "    </tr>\n",
       "    <tr>\n",
       "      <td>3</td>\n",
       "      <td>ikon</td>\n",
       "      <td>DIV</td>\n",
       "      <td>240.0</td>\n",
       "      <td>0.0</td>\n",
       "      <td>1440</td>\n",
       "      <td>60</td>\n",
       "      <td>3</td>\n",
       "      <td>5</td>\n",
       "      <td>3</td>\n",
       "      <td>12.0</td>\n",
       "      <td>...</td>\n",
       "      <td>240</td>\n",
       "      <td>0</td>\n",
       "      <td>0</td>\n",
       "      <td>0</td>\n",
       "      <td>0</td>\n",
       "      <td>17</td>\n",
       "      <td>0.125000</td>\n",
       "      <td>0.000000</td>\n",
       "      <td>0</td>\n",
       "      <td>0</td>\n",
       "    </tr>\n",
       "    <tr>\n",
       "      <td>4</td>\n",
       "      <td>ikon</td>\n",
       "      <td>DIV</td>\n",
       "      <td>258.0</td>\n",
       "      <td>10.0</td>\n",
       "      <td>103</td>\n",
       "      <td>38</td>\n",
       "      <td>1</td>\n",
       "      <td>0</td>\n",
       "      <td>4</td>\n",
       "      <td>12.0</td>\n",
       "      <td>...</td>\n",
       "      <td>18</td>\n",
       "      <td>0</td>\n",
       "      <td>0</td>\n",
       "      <td>0</td>\n",
       "      <td>0</td>\n",
       "      <td>3</td>\n",
       "      <td>0.134375</td>\n",
       "      <td>0.001321</td>\n",
       "      <td>0</td>\n",
       "      <td>0</td>\n",
       "    </tr>\n",
       "  </tbody>\n",
       "</table>\n",
       "<p>5 rows × 34 columns</p>\n",
       "</div>"
      ],
      "text/plain": [
       "   site tagName   left   top  width  height  children  textCount  parentCount  \\\n",
       "0  ikon     DIV    0.0  35.0   1920       0         0          0            1   \n",
       "1  ikon     DIV    0.0  35.0   1920    7380         2       2361            1   \n",
       "2  ikon     DIV    0.0   0.0   1920      60         1          5            2   \n",
       "3  ikon     DIV  240.0   0.0   1440      60         3          5            3   \n",
       "4  ikon     DIV  258.0  10.0    103      38         1          0            4   \n",
       "\n",
       "   fontSize  ...  marginLeft  paddingTop  paddingRight  paddingBottom  \\\n",
       "0      12.0  ...           0           0             0              0   \n",
       "1      12.0  ...           0           0             0              0   \n",
       "2      12.0  ...           0           0             0              0   \n",
       "3      12.0  ...         240           0             0              0   \n",
       "4      12.0  ...          18           0             0              0   \n",
       "\n",
       "   paddingLeft  descendants   relPosX   relPosY  title  content  \n",
       "0            0            0  0.000000  0.004624      0        0  \n",
       "1            0          458  0.000000  0.004624      0        0  \n",
       "2            0           18  0.000000  0.000000      0        0  \n",
       "3            0           17  0.125000  0.000000      0        0  \n",
       "4            0            3  0.134375  0.001321      0        0  \n",
       "\n",
       "[5 rows x 34 columns]"
      ]
     },
     "execution_count": 5,
     "metadata": {},
     "output_type": "execute_result"
    }
   ],
   "source": [
    "class_mapping={False:0,True:1}\n",
    "data['title']=data['title'].map(class_mapping)\n",
    "data['content']=data['content'].map(class_mapping)\n",
    "data.head()"
   ]
  },
  {
   "cell_type": "markdown",
   "metadata": {},
   "source": [
    "### 3. Non-numerical values"
   ]
  },
  {
   "cell_type": "markdown",
   "metadata": {},
   "source": [
    "Now I will make sure that any feature does not have non numerical data."
   ]
  },
  {
   "cell_type": "code",
   "execution_count": 6,
   "metadata": {},
   "outputs": [
    {
     "name": "stdout",
     "output_type": "stream",
     "text": [
      "[dtype('O') dtype('float64') dtype('int64')]\n"
     ]
    },
    {
     "data": {
      "text/plain": [
       "Index(['site', 'tagName', 'textAlign', 'marginTop', 'marginRight',\n",
       "       'marginBottom', 'marginLeft', 'paddingTop', 'paddingRight',\n",
       "       'paddingBottom', 'paddingLeft'],\n",
       "      dtype='object')"
      ]
     },
     "execution_count": 6,
     "metadata": {},
     "output_type": "execute_result"
    }
   ],
   "source": [
    "print(data.dtypes.unique())\n",
    "data.columns[data.dtypes=='O']"
   ]
  },
  {
   "cell_type": "markdown",
   "metadata": {},
   "source": [
    "'site' will not be used as training features so we can ignore it so far. tagName and textAlign features are categorical features and I will tackle those features lated. Therefore, according to the result, the features **margin, padding** contain not numerical data. So now I will work on margins which are supposed to hold continuous values.\n",
    "\n",
    "So lets look what values are that non-numerical values."
   ]
  },
  {
   "cell_type": "code",
   "execution_count": 7,
   "metadata": {},
   "outputs": [
    {
     "name": "stdout",
     "output_type": "stream",
     "text": [
      "marginTop Counter({'auto': 48, '10%': 2, '15%': 1})\n",
      "marginRight Counter({'auto': 518, '15%': 4, '-100%': 3, '2%': 3, '0.95%': 1, '5%': 1, '1%': 1})\n",
      "marginBottom Counter({'auto': 51, '2%': 15, '10%': 1})\n",
      "marginLeft Counter({'auto': 524, '2%': 14, '15%': 4, '-100%': 3, 'calc(-10% + 84.48)': 1, '3.4%': 1, '-50%': 1, '8.33333%': 1, '5%': 1, '75%': 1, '1%': 1})\n",
      "paddingTop Counter({'75%': 7, '60%': 2, '1%': 1, '62%': 1, '67%': 1, '56.1912%': 1, '56.2559%': 1, '145%': 1})\n",
      "paddingRight Counter({'2%': 2, '3%': 1})\n",
      "paddingBottom Counter({'67%': 15, '69.2308%': 12, '50%': 8, '56%': 2, '1%': 1, '3%': 1, '83.3333%': 1, '59%': 1, '65%': 1, '75%': 1, '54%': 1, '55%': 1, '66%': 1, '100%': 1})\n",
      "paddingLeft Counter({'6.66667%': 3, '2%': 2, '3%': 1})\n"
     ]
    }
   ],
   "source": [
    "#margins are not numeric\n",
    "from collections import Counter\n",
    "nan_columns=['marginTop','marginRight','marginBottom','marginLeft','paddingTop','paddingRight','paddingBottom','paddingLeft']\n",
    "for c in nan_columns:\n",
    "    string_values=[]\n",
    "    s=data[c]\n",
    "    for index, value in s.items():\n",
    "        try:\n",
    "            float(value)\n",
    "        except ValueError:\n",
    "            string_values.append(value)\n",
    "    print(c,Counter(string_values))"
   ]
  },
  {
   "cell_type": "markdown",
   "metadata": {},
   "source": [
    "As for the margins or padding, these values can be changed into the most frequent values."
   ]
  },
  {
   "cell_type": "code",
   "execution_count": 8,
   "metadata": {},
   "outputs": [],
   "source": [
    "for c in nan_columns:\n",
    "    data[c]=pd.to_numeric(data[c],errors='coerce')"
   ]
  },
  {
   "cell_type": "code",
   "execution_count": 9,
   "metadata": {},
   "outputs": [
    {
     "name": "stdout",
     "output_type": "stream",
     "text": [
      "   marginTop  marginRight  marginBottom  marginLeft  paddingTop  paddingRight  \\\n",
      "0        0.0          0.0           0.0         0.0         0.0           0.0   \n",
      "\n",
      "   paddingBottom  paddingLeft  \n",
      "0            0.0          0.0  \n"
     ]
    },
    {
     "data": {
      "text/html": [
       "<div>\n",
       "<style scoped>\n",
       "    .dataframe tbody tr th:only-of-type {\n",
       "        vertical-align: middle;\n",
       "    }\n",
       "\n",
       "    .dataframe tbody tr th {\n",
       "        vertical-align: top;\n",
       "    }\n",
       "\n",
       "    .dataframe thead th {\n",
       "        text-align: right;\n",
       "    }\n",
       "</style>\n",
       "<table border=\"1\" class=\"dataframe\">\n",
       "  <thead>\n",
       "    <tr style=\"text-align: right;\">\n",
       "      <th></th>\n",
       "      <th>site</th>\n",
       "      <th>tagName</th>\n",
       "      <th>left</th>\n",
       "      <th>top</th>\n",
       "      <th>width</th>\n",
       "      <th>height</th>\n",
       "      <th>children</th>\n",
       "      <th>textCount</th>\n",
       "      <th>parentCount</th>\n",
       "      <th>fontSize</th>\n",
       "      <th>...</th>\n",
       "      <th>marginLeft</th>\n",
       "      <th>paddingTop</th>\n",
       "      <th>paddingRight</th>\n",
       "      <th>paddingBottom</th>\n",
       "      <th>paddingLeft</th>\n",
       "      <th>descendants</th>\n",
       "      <th>relPosX</th>\n",
       "      <th>relPosY</th>\n",
       "      <th>title</th>\n",
       "      <th>content</th>\n",
       "    </tr>\n",
       "  </thead>\n",
       "  <tbody>\n",
       "    <tr>\n",
       "      <td>0</td>\n",
       "      <td>ikon</td>\n",
       "      <td>DIV</td>\n",
       "      <td>0.0</td>\n",
       "      <td>35.0</td>\n",
       "      <td>1920</td>\n",
       "      <td>0</td>\n",
       "      <td>0</td>\n",
       "      <td>0</td>\n",
       "      <td>1</td>\n",
       "      <td>12.0</td>\n",
       "      <td>...</td>\n",
       "      <td>0.0</td>\n",
       "      <td>0.0</td>\n",
       "      <td>0.0</td>\n",
       "      <td>0.0</td>\n",
       "      <td>0.0</td>\n",
       "      <td>0</td>\n",
       "      <td>0.000000</td>\n",
       "      <td>0.004624</td>\n",
       "      <td>0</td>\n",
       "      <td>0</td>\n",
       "    </tr>\n",
       "    <tr>\n",
       "      <td>1</td>\n",
       "      <td>ikon</td>\n",
       "      <td>DIV</td>\n",
       "      <td>0.0</td>\n",
       "      <td>35.0</td>\n",
       "      <td>1920</td>\n",
       "      <td>7380</td>\n",
       "      <td>2</td>\n",
       "      <td>2361</td>\n",
       "      <td>1</td>\n",
       "      <td>12.0</td>\n",
       "      <td>...</td>\n",
       "      <td>0.0</td>\n",
       "      <td>0.0</td>\n",
       "      <td>0.0</td>\n",
       "      <td>0.0</td>\n",
       "      <td>0.0</td>\n",
       "      <td>458</td>\n",
       "      <td>0.000000</td>\n",
       "      <td>0.004624</td>\n",
       "      <td>0</td>\n",
       "      <td>0</td>\n",
       "    </tr>\n",
       "    <tr>\n",
       "      <td>2</td>\n",
       "      <td>ikon</td>\n",
       "      <td>DIV</td>\n",
       "      <td>0.0</td>\n",
       "      <td>0.0</td>\n",
       "      <td>1920</td>\n",
       "      <td>60</td>\n",
       "      <td>1</td>\n",
       "      <td>5</td>\n",
       "      <td>2</td>\n",
       "      <td>12.0</td>\n",
       "      <td>...</td>\n",
       "      <td>0.0</td>\n",
       "      <td>0.0</td>\n",
       "      <td>0.0</td>\n",
       "      <td>0.0</td>\n",
       "      <td>0.0</td>\n",
       "      <td>18</td>\n",
       "      <td>0.000000</td>\n",
       "      <td>0.000000</td>\n",
       "      <td>0</td>\n",
       "      <td>0</td>\n",
       "    </tr>\n",
       "    <tr>\n",
       "      <td>3</td>\n",
       "      <td>ikon</td>\n",
       "      <td>DIV</td>\n",
       "      <td>240.0</td>\n",
       "      <td>0.0</td>\n",
       "      <td>1440</td>\n",
       "      <td>60</td>\n",
       "      <td>3</td>\n",
       "      <td>5</td>\n",
       "      <td>3</td>\n",
       "      <td>12.0</td>\n",
       "      <td>...</td>\n",
       "      <td>240.0</td>\n",
       "      <td>0.0</td>\n",
       "      <td>0.0</td>\n",
       "      <td>0.0</td>\n",
       "      <td>0.0</td>\n",
       "      <td>17</td>\n",
       "      <td>0.125000</td>\n",
       "      <td>0.000000</td>\n",
       "      <td>0</td>\n",
       "      <td>0</td>\n",
       "    </tr>\n",
       "    <tr>\n",
       "      <td>4</td>\n",
       "      <td>ikon</td>\n",
       "      <td>DIV</td>\n",
       "      <td>258.0</td>\n",
       "      <td>10.0</td>\n",
       "      <td>103</td>\n",
       "      <td>38</td>\n",
       "      <td>1</td>\n",
       "      <td>0</td>\n",
       "      <td>4</td>\n",
       "      <td>12.0</td>\n",
       "      <td>...</td>\n",
       "      <td>18.0</td>\n",
       "      <td>0.0</td>\n",
       "      <td>0.0</td>\n",
       "      <td>0.0</td>\n",
       "      <td>0.0</td>\n",
       "      <td>3</td>\n",
       "      <td>0.134375</td>\n",
       "      <td>0.001321</td>\n",
       "      <td>0</td>\n",
       "      <td>0</td>\n",
       "    </tr>\n",
       "  </tbody>\n",
       "</table>\n",
       "<p>5 rows × 34 columns</p>\n",
       "</div>"
      ],
      "text/plain": [
       "   site tagName   left   top  width  height  children  textCount  parentCount  \\\n",
       "0  ikon     DIV    0.0  35.0   1920       0         0          0            1   \n",
       "1  ikon     DIV    0.0  35.0   1920    7380         2       2361            1   \n",
       "2  ikon     DIV    0.0   0.0   1920      60         1          5            2   \n",
       "3  ikon     DIV  240.0   0.0   1440      60         3          5            3   \n",
       "4  ikon     DIV  258.0  10.0    103      38         1          0            4   \n",
       "\n",
       "   fontSize  ...  marginLeft  paddingTop  paddingRight  paddingBottom  \\\n",
       "0      12.0  ...         0.0         0.0           0.0            0.0   \n",
       "1      12.0  ...         0.0         0.0           0.0            0.0   \n",
       "2      12.0  ...         0.0         0.0           0.0            0.0   \n",
       "3      12.0  ...       240.0         0.0           0.0            0.0   \n",
       "4      12.0  ...        18.0         0.0           0.0            0.0   \n",
       "\n",
       "   paddingLeft  descendants   relPosX   relPosY  title  content  \n",
       "0          0.0            0  0.000000  0.004624      0        0  \n",
       "1          0.0          458  0.000000  0.004624      0        0  \n",
       "2          0.0           18  0.000000  0.000000      0        0  \n",
       "3          0.0           17  0.125000  0.000000      0        0  \n",
       "4          0.0            3  0.134375  0.001321      0        0  \n",
       "\n",
       "[5 rows x 34 columns]"
      ]
     },
     "execution_count": 9,
     "metadata": {},
     "output_type": "execute_result"
    }
   ],
   "source": [
    "print(data[nan_columns].mode())\n",
    "data[nan_columns] = data[nan_columns].fillna(data[nan_columns].mode().iloc[0])\n",
    "data.head()"
   ]
  },
  {
   "cell_type": "markdown",
   "metadata": {},
   "source": [
    "## Models\n",
    "From this point, I will separate my dataset for two model: Model for title and model for content."
   ]
  },
  {
   "cell_type": "code",
   "execution_count": 10,
   "metadata": {},
   "outputs": [],
   "source": [
    "data_title=data.drop(['content'],axis=1)\n",
    "data_content=data.drop(['title'],axis=1)"
   ]
  },
  {
   "cell_type": "code",
   "execution_count": null,
   "metadata": {},
   "outputs": [],
   "source": []
  },
  {
   "cell_type": "markdown",
   "metadata": {},
   "source": [
    "# Training model for 'Title'"
   ]
  },
  {
   "cell_type": "markdown",
   "metadata": {},
   "source": [
    "### 1. Categorical features.\n",
    "My dataset has two categorical features:tagName,textAlign and both of them are nominal. So I will use one-hot encoding method. And also I will remove the most frequent dummy feature so that it will be possible to ignore them if new tag name or text alignment is introduced on testing or production phase."
   ]
  },
  {
   "cell_type": "markdown",
   "metadata": {},
   "source": [
    "But before to do that, in order to reduce dimentionality I can filter tag names and remove the rows which will never get positive class. "
   ]
  },
  {
   "cell_type": "code",
   "execution_count": 11,
   "metadata": {},
   "outputs": [
    {
     "data": {
      "text/plain": [
       "array(['DIV', 'A', 'SPAN', 'IMG', 'H1', 'P', 'STRONG', 'H2', 'EM', 'H4',\n",
       "       'TABLE', 'TBODY', 'TR', 'TD', 'IFRAME', 'BR', 'SCRIPT', 'INPUT',\n",
       "       'LABEL', 'TEXTAREA', 'BUTTON', 'I', 'NOSCRIPT', 'SECTION', 'SVG',\n",
       "       'RECT', 'UL', 'LI', 'FORM', 'CIRCLE', 'PATH', 'NAV', 'LINE', 'HR',\n",
       "       'ARTICLE', 'H5', 'FIELDSET', 'FOOTER', 'HEADER', 'H6', 'H3',\n",
       "       'SMALL', 'VIDEO', 'SOURCE', 'ASIDE', 'STYLE', 'SUP', 'TITLE', 'G',\n",
       "       'BLOCKQUOTE', 'FIGURE', 'FIGCAPTION', 'PROGRESS', 'B', 'OL',\n",
       "       'POLYLINE', 'META', 'TEXT', 'TIME', 'INS', 'AMP-ANALYTICS', 'LINK',\n",
       "       'SELECT', 'OPTION', 'ABBR', 'MARQUEE', 'CENTER', 'U', 'FONT',\n",
       "       'MAIN', 'T', 'DEFS', 'THEAD', 'TH', 'MAP', 'AREA', 'CITE',\n",
       "       'PICTURE', 'USE', 'POLYGON', 'AUDIO', 'CLIPPATH', 'LEGEND',\n",
       "       'XDOOR-ICON', 'SYMBOL', 'TWITTER-WIDGET', 'QMT_START', 'QMT_END',\n",
       "       'DL', 'DT', 'S', 'DD', 'SBSTICKY', 'NOBR', 'DAC-IVT-OGV',\n",
       "       'ADDRESS', 'FB:LIKE', 'FB:RECOMMENDATIONS-BAR', 'ELLIPSE',\n",
       "       'LINEARGRADIENT', 'STOP', 'RADIALGRADIENT', 'TQWIDGET', 'IMAGE',\n",
       "       'MENU', 'VIDEOPLAYER', 'AMP-ANIMATION', 'AMP-POSITION-OBSERVER',\n",
       "       'AMP-IMG', 'I-AMPHTML-SIZER', 'AMP-LIST', 'TEMPLATE',\n",
       "       'AMP-SIDEBAR', 'AMP-AD', 'AMP-SOCIAL-SHARE', 'AMP-IFRAME',\n",
       "       'I-AMPHTML-SCROLL-CONTAINER', 'AMP-FACEBOOK-COMMENTS', 'AMP-EMBED',\n",
       "       'AMP-STICKY-AD', 'AMP-STICKY-AD-TOP-PADDING', 'AMP-WEB-PUSH',\n",
       "       'AMP-INSTALL-SERVICEWORKER', 'AMP-USER-NOTIFICATION',\n",
       "       'AMP-WEB-PUSH-WIDGET', 'AMP-DATE-DISPLAY', 'AMP-IMAGE-LIGHTBOX',\n",
       "       'AMP-TWITTER', 'AMP-STATE', 'AMP-ACCORDION', 'AMP-LIVE-LIST',\n",
       "       'AMP-LIGHTBOX', 'AMP-PIXEL', 'AMP-LIGHTBOX-GALLERY', 'OBJECT'],\n",
       "      dtype=object)"
      ]
     },
     "execution_count": 11,
     "metadata": {},
     "output_type": "execute_result"
    }
   ],
   "source": [
    "# some tag names are lowercase. it is better all of them are uppercase.\n",
    "data_title['tagName']=data_title['tagName'].str.upper()\n",
    "data_title['tagName'].unique()"
   ]
  },
  {
   "cell_type": "code",
   "execution_count": null,
   "metadata": {},
   "outputs": [],
   "source": []
  },
  {
   "cell_type": "code",
   "execution_count": 12,
   "metadata": {},
   "outputs": [
    {
     "data": {
      "text/plain": [
       "(50502, 33)"
      ]
     },
     "execution_count": 12,
     "metadata": {},
     "output_type": "execute_result"
    }
   ],
   "source": [
    "tag_blacklist=['A','IMG','TABLE','TBODY','TR','IFRAME','BR','SCRIPT','INPUT','LABEL','TEXTAREA','BUTTON','NOSCRIPT','SVG','RECT','UL','LI','FORM','CIRCLE','PATH',\n",
    "              'NAV','LINE','HR','ARTICLE','FIELDSET','FOOTER', 'HEADER',\n",
    "       'SMALL', 'VIDEO', 'SOURCE', 'ASIDE', 'STYLE', 'SUP', 'G',\n",
    "       'BLOCKQUOTE', 'FIGURE', 'FIGCAPTION', 'PROGRESS',  'OL',\n",
    "         'META', 'TEXT', 'TIME', 'INS', 'LINK', 'SELECT',\n",
    "       'OPTION', 'ABBR', 'MARQUEE', 'U',  'MAIN', 'AMP-ANALYTICS',\n",
    "       'DEFS', 'THEAD', 'TH', 'MAP', 'AREA', 'AUDIO', 'CLIPPATH',\n",
    "       'LEGEND', 'CITE', 'XDOOR-ICON', 'SYMBOL', 'TWITTER-WIDGET', 'USE',\n",
    "       'PICTURE', 'QMT_START', 'QMT_END', 'DL', 'DT', 'S', 'DD', 'SUB',\n",
    "       'SBSTICKY', 'NOBR', 'DAC-IVT-OGV', 'ADDRESS', 'FB:LIKE', 'POLYGON',\n",
    "       'FB:RECOMMENDATIONS-BAR', 'ELLIPSE', 'LINEARGRADIENT', 'STOP',\n",
    "       'RADIALGRADIENT', 'TQWIDGET', 'IMAGE', 'MENU', 'VIDEOPLAYER',\n",
    "       'AMP-ANIMATION', 'AMP-POSITION-OBSERVER',\n",
    "       'AMP-IMG', 'I-AMPHTML-SIZER', 'AMP-LIST', 'TEMPLATE',\n",
    "       'AMP-SIDEBAR', 'AMP-AD', 'AMP-SOCIAL-SHARE', 'AMP-IFRAME',\n",
    "       'I-AMPHTML-SCROLL-CONTAINER', 'AMP-FACEBOOK-COMMENTS', 'AMP-EMBED',\n",
    "       'AMP-STICKY-AD', 'AMP-STICKY-AD-TOP-PADDING', 'AMP-WEB-PUSH',\n",
    "       'AMP-INSTALL-SERVICEWORKER', 'AMP-USER-NOTIFICATION',\n",
    "       'AMP-WEB-PUSH-WIDGET', 'AMP-DATE-DISPLAY', 'AMP-IMAGE-LIGHTBOX',\n",
    "       'AMP-TWITTER', 'AMP-STATE', 'AMP-ACCORDION', 'AMP-LIVE-LIST',\n",
    "       'AMP-LIGHTBOX', 'AMP-PIXEL', 'AMP-LIGHTBOX-GALLERY','DEL','T', 'PRE', 'OBJECT', 'POLYLINE']\n",
    "data_title=data_title[~data_title['tagName'].isin(tag_blacklist)]\n",
    "data_title['tagName']\n",
    "data_title.shape"
   ]
  },
  {
   "cell_type": "code",
   "execution_count": 13,
   "metadata": {},
   "outputs": [
    {
     "name": "stdout",
     "output_type": "stream",
     "text": [
      "DIV\n",
      "start\n",
      "Index(['site', 'left', 'top', 'width', 'height', 'children', 'textCount',\n",
      "       'parentCount', 'fontSize', 'linkCount', 'paragraphCount', 'imageCount',\n",
      "       'colorRed', 'colorGreen', 'colorBlue', 'backgroundRed',\n",
      "       'backgroundGreen', 'backgroundBlue', 'backgroundAlpha', 'marginTop',\n",
      "       'marginRight', 'marginBottom', 'marginLeft', 'paddingTop',\n",
      "       'paddingRight', 'paddingBottom', 'paddingLeft', 'descendants',\n",
      "       'relPosX', 'relPosY', 'title', 'tagName_B', 'tagName_CENTER',\n",
      "       'tagName_DIV', 'tagName_EM', 'tagName_FONT', 'tagName_H1', 'tagName_H2',\n",
      "       'tagName_H3', 'tagName_H4', 'tagName_H5', 'tagName_H6', 'tagName_I',\n",
      "       'tagName_P', 'tagName_SECTION', 'tagName_SPAN', 'tagName_STRONG',\n",
      "       'tagName_TD', 'tagName_TITLE', 'textAlign_-webkit-center',\n",
      "       'textAlign_-webkit-left', 'textAlign_-webkit-right', 'textAlign_center',\n",
      "       'textAlign_justify', 'textAlign_left', 'textAlign_right',\n",
      "       'textAlign_start'],\n",
      "      dtype='object')\n"
     ]
    }
   ],
   "source": [
    "print(data_title['tagName'].value_counts().idxmax())\n",
    "print(data_title['textAlign'].value_counts().idxmax())\n",
    "data_title_dummy=pd.get_dummies(data_title,columns=['tagName','textAlign'])\n",
    "print(data_title_dummy.columns)"
   ]
  },
  {
   "cell_type": "code",
   "execution_count": 14,
   "metadata": {},
   "outputs": [
    {
     "name": "stdout",
     "output_type": "stream",
     "text": [
      "Index(['site', 'left', 'top', 'width', 'height', 'children', 'textCount',\n",
      "       'parentCount', 'fontSize', 'linkCount', 'paragraphCount', 'imageCount',\n",
      "       'colorRed', 'colorGreen', 'colorBlue', 'backgroundRed',\n",
      "       'backgroundGreen', 'backgroundBlue', 'backgroundAlpha', 'marginTop',\n",
      "       'marginRight', 'marginBottom', 'marginLeft', 'paddingTop',\n",
      "       'paddingRight', 'paddingBottom', 'paddingLeft', 'descendants',\n",
      "       'relPosX', 'relPosY', 'title', 'tagName_B', 'tagName_CENTER',\n",
      "       'tagName_EM', 'tagName_FONT', 'tagName_H1', 'tagName_H2', 'tagName_H3',\n",
      "       'tagName_H4', 'tagName_H5', 'tagName_H6', 'tagName_I', 'tagName_P',\n",
      "       'tagName_SECTION', 'tagName_SPAN', 'tagName_STRONG', 'tagName_TD',\n",
      "       'tagName_TITLE', 'textAlign_-webkit-center', 'textAlign_-webkit-left',\n",
      "       'textAlign_-webkit-right', 'textAlign_center', 'textAlign_justify',\n",
      "       'textAlign_left', 'textAlign_right'],\n",
      "      dtype='object')\n"
     ]
    }
   ],
   "source": [
    "data_title_dummy=data_title_dummy.drop(['tagName_DIV','textAlign_start'],axis=1)\n",
    "print(data_title_dummy.columns)"
   ]
  },
  {
   "cell_type": "code",
   "execution_count": 15,
   "metadata": {},
   "outputs": [],
   "source": [
    "sites_title=data_title_dummy['site']\n",
    "y_title=data_title_dummy['title']\n",
    "X_title=data_title_dummy.drop(['site','title'],axis=1)"
   ]
  },
  {
   "cell_type": "code",
   "execution_count": 16,
   "metadata": {},
   "outputs": [],
   "source": [
    "from sklearn.preprocessing import MinMaxScaler\n",
    "mms_title=MinMaxScaler()\n",
    "X_title_sc=mms_title.fit_transform(X_title)"
   ]
  },
  {
   "cell_type": "code",
   "execution_count": 17,
   "metadata": {},
   "outputs": [],
   "source": [
    "def choose_max_probability(sites,pred_proba):\n",
    "    y_pred=[]  \n",
    "    i=0\n",
    "    while True:\n",
    "        s=sites[i]\n",
    "        s_index=(sites==s)\n",
    "\n",
    "        max_prob=pred_proba[s_index].argmax(axis=0)[1]\n",
    "        y_site=[0]*np.sum(s_index)\n",
    "        y_site[max_prob]=1\n",
    "        y_pred+=y_site\n",
    "        i+=np.sum(s_index)\n",
    "        #print('%s:%d'%(s,max_prob))\n",
    "        if(i>=sites.shape[0]):\n",
    "            break;\n",
    "    return y_pred;"
   ]
  },
  {
   "cell_type": "code",
   "execution_count": 18,
   "metadata": {},
   "outputs": [],
   "source": [
    "import numpy as np\n",
    "import sklearn.metrics as metrics\n",
    "import time;\n",
    "from imblearn.over_sampling import RandomOverSampler\n",
    "\n",
    "class KFoldProba:\n",
    "    \n",
    "    def __init__(self,k=10, random_state=1):\n",
    "        self._k=k\n",
    "        self._folds=[]\n",
    "        self.random_state=random_state\n",
    "    \n",
    "    def fit(self, sites, X, y):\n",
    "        random=np.random.RandomState(self.random_state)\n",
    "        self._folds=[]\n",
    "        \n",
    "        sites_unq=np.unique(sites)\n",
    "        random.shuffle(sites_unq)\n",
    "        \n",
    "        foldsize=int(len(sites_unq)/self._k)\n",
    "        remainder=len(sites_unq)-self._k*foldsize\n",
    "        start=0\n",
    "        for i in range(self._k):\n",
    "            this_fold_size=foldsize\n",
    "            if(i<remainder): this_fold_size+=1\n",
    "            fold_sites=sites_unq[start:(start+this_fold_size)]\n",
    "            fold_X=X[np.isin(sites,fold_sites)]\n",
    "            fold_y=y[np.isin(sites,fold_sites)]\n",
    "            fold={'sites':sites[np.isin(sites,fold_sites)],\"X\":fold_X,\"y\":fold_y}\n",
    "            self._folds.append(fold)\n",
    "            start+=this_fold_size\n",
    "    \n",
    "    def estimate(self, model):\n",
    "        scores=dict({\"accuracy\":0,\"precision\":0,\"recall\":0,\"f1\":0})\n",
    "        for f in range(self._k):\n",
    "            start_time = time.time()\n",
    "            \n",
    "            test_fold=self._folds[f]\n",
    "            \n",
    "            train_X=np.concatenate([self._folds[ff]['X'] for ff in range(self._k) if ff!=f],axis=0) \n",
    "            train_y=np.concatenate([self._folds[ff]['y'] for ff in range(self._k) if ff!=f],axis=0) \n",
    "            \n",
    "            ros_title = RandomOverSampler(random_state=self.random_state)\n",
    "            \n",
    "            train_X_resampled, train_y_resampled = ros_title.fit_resample(train_X, train_y)\n",
    "            print(\"\\t\\tfold:%d, presampled:%d oversampled:%d\"%(f, train_X.shape[0], train_X_resampled.shape[0]))\n",
    "            \n",
    "            model.fit(train_X_resampled,train_y_resampled)\n",
    "\n",
    "            pred_proba=model.predict_proba(test_fold['X'])\n",
    "            y_pred=choose_max_probability(test_fold['sites'],pred_proba)\n",
    "            \n",
    "            \n",
    "            a=metrics.accuracy_score(test_fold['y'],y_pred)\n",
    "            p=metrics.precision_score(test_fold['y'],y_pred)\n",
    "            r=metrics.recall_score(test_fold['y'],y_pred)\n",
    "            f1=metrics.f1_score(test_fold['y'],y_pred)\n",
    "            scores[\"accuracy\"]+=a\n",
    "            scores[\"precision\"]+=p\n",
    "            scores[\"recall\"]+=r\n",
    "            scores[\"f1\"]+=f1\n",
    "            print(\"\\t\\tfold:%d, time:%d secs, [%.3f, %.3f,%.3f,%.3f] \"%(f,time.time()-start_time,a,p,r,f1))\n",
    "        return {k: v/self._k for k, v in scores.items()}"
   ]
  },
  {
   "cell_type": "code",
   "execution_count": 19,
   "metadata": {},
   "outputs": [
    {
     "data": {
      "text/plain": [
       "\"result_title=grid_validation(\\n    kfold=kfold,\\n    models=[\\n        {\\n            'model':KNeighborsClassifier,\\n            'params':[\\n                {'weights':'uniform','n_neighbors':5},\\n                {'weights':'uniform','n_neighbors':10},\\n                {'weights':'uniform','n_neighbors':15},\\n                {'weights':'distance','n_neighbors':5},\\n                {'weights':'distance','n_neighbors':10},\\n                {'weights':'distance','n_neighbors':15}\\n            ]\\n        },\\n        {\\n             'model':LogisticRegression,\\n             'params':[\\n                {'C':0.001,'solver':'liblinear','random_state':5},\\n                {'C':0.01,'solver':'liblinear','random_state':5},\\n                {'C':0.1,'solver':'liblinear','random_state':5},\\n                {'C':1,'solver':'liblinear','random_state':5},\\n                {'C':10,'solver':'liblinear','random_state':5},\\n                {'C':100,'solver':'liblinear','random_state':5},\\n                {'penalty':'l1','C':0.001,'solver':'liblinear','random_state':5},\\n                {'penalty':'l1','C':0.01,'solver':'liblinear','random_state':5},\\n                {'penalty':'l1','C':0.1,'solver':'liblinear','random_state':5},\\n                {'penalty':'l1','C':1,'solver':'liblinear','random_state':5},\\n                {'penalty':'l1','C':10,'solver':'liblinear','random_state':5},\\n                {'penalty':'l1','C':100,'solver':'liblinear','random_state':5},\\n            ]\\n        }\\n    ]\\n)\""
      ]
     },
     "execution_count": 19,
     "metadata": {},
     "output_type": "execute_result"
    }
   ],
   "source": [
    "from sklearn.linear_model import LogisticRegression\n",
    "from sklearn.neighbors import KNeighborsClassifier\n",
    "from sklearn.svm import SVC\n",
    "import datetime;\n",
    "def grid_validation(kfold,models):\n",
    "    results=[]\n",
    "    grid_size=0\n",
    "    for m in models:\n",
    "        grid_size+=len(m['params'])\n",
    "    i=0;\n",
    "    start_time=datetime.datetime.now()\n",
    "    \n",
    "    for m in models:\n",
    "        now=datetime.datetime.now()\n",
    "        print(\"Starting classifer: %d:%d - \"%(now.hour,now.minute),m)\n",
    "        for p in m['params']:\n",
    "            i+=1\n",
    "            now=datetime.datetime.now()\n",
    "            print(\"\\tStarting %d out of %d testing: %d:%d\"%(i,grid_size,now.hour,now.minute))\n",
    "            \n",
    "            mod=m['model'](**p)\n",
    "            metrics=kfold.estimate(mod)\n",
    "            t=datetime.datetime.now()\n",
    "            print(\"\\tFinished %d out of %d testing: %d:%d, time:%d secs\"%(i,grid_size,t.hour,t.minute,t.timestamp()-now.timestamp()))\n",
    "            print('\\tMetrics accuracy:%.3f precision:%.3f recall:%.3f f1:%.3f'%(metrics['accuracy'],metrics['precision'],metrics['recall'],metrics['f1']))\n",
    "            results.append({'model_name':m,'model_param':p,'metrics':metrics,'model':mod})\n",
    "\n",
    "kfold=KFoldProba(k=10,random_state=3)\n",
    "kfold.fit(sites_title.to_numpy(),X_title_sc,y_title.to_numpy())\n",
    "'''result_title=grid_validation(\n",
    "    kfold=kfold,\n",
    "    models=[\n",
    "        {\n",
    "            'model':KNeighborsClassifier,\n",
    "            'params':[\n",
    "                {'weights':'uniform','n_neighbors':5},\n",
    "                {'weights':'uniform','n_neighbors':10},\n",
    "                {'weights':'uniform','n_neighbors':15},\n",
    "                {'weights':'distance','n_neighbors':5},\n",
    "                {'weights':'distance','n_neighbors':10},\n",
    "                {'weights':'distance','n_neighbors':15}\n",
    "            ]\n",
    "        },\n",
    "        {\n",
    "             'model':LogisticRegression,\n",
    "             'params':[\n",
    "                {'C':0.001,'solver':'liblinear','random_state':5},\n",
    "                {'C':0.01,'solver':'liblinear','random_state':5},\n",
    "                {'C':0.1,'solver':'liblinear','random_state':5},\n",
    "                {'C':1,'solver':'liblinear','random_state':5},\n",
    "                {'C':10,'solver':'liblinear','random_state':5},\n",
    "                {'C':100,'solver':'liblinear','random_state':5},\n",
    "                {'penalty':'l1','C':0.001,'solver':'liblinear','random_state':5},\n",
    "                {'penalty':'l1','C':0.01,'solver':'liblinear','random_state':5},\n",
    "                {'penalty':'l1','C':0.1,'solver':'liblinear','random_state':5},\n",
    "                {'penalty':'l1','C':1,'solver':'liblinear','random_state':5},\n",
    "                {'penalty':'l1','C':10,'solver':'liblinear','random_state':5},\n",
    "                {'penalty':'l1','C':100,'solver':'liblinear','random_state':5},\n",
    "            ]\n",
    "        }\n",
    "    ]\n",
    ")'''"
   ]
  },
  {
   "cell_type": "markdown",
   "metadata": {},
   "source": [
    "# Training model for 'content'"
   ]
  },
  {
   "cell_type": "code",
   "execution_count": 20,
   "metadata": {},
   "outputs": [
    {
     "data": {
      "text/plain": [
       "array(['DIV', 'A', 'SPAN', 'IMG', 'H1', 'P', 'STRONG', 'H2', 'EM', 'H4',\n",
       "       'TABLE', 'TBODY', 'TR', 'TD', 'IFRAME', 'BR', 'SCRIPT', 'INPUT',\n",
       "       'LABEL', 'TEXTAREA', 'BUTTON', 'I', 'NOSCRIPT', 'SECTION', 'SVG',\n",
       "       'RECT', 'UL', 'LI', 'FORM', 'CIRCLE', 'PATH', 'NAV', 'LINE', 'HR',\n",
       "       'ARTICLE', 'H5', 'FIELDSET', 'FOOTER', 'HEADER', 'H6', 'H3',\n",
       "       'SMALL', 'VIDEO', 'SOURCE', 'ASIDE', 'STYLE', 'SUP', 'TITLE', 'G',\n",
       "       'BLOCKQUOTE', 'FIGURE', 'FIGCAPTION', 'PROGRESS', 'B', 'OL',\n",
       "       'POLYLINE', 'META', 'TEXT', 'TIME', 'INS', 'AMP-ANALYTICS', 'LINK',\n",
       "       'SELECT', 'OPTION', 'ABBR', 'MARQUEE', 'CENTER', 'U', 'FONT',\n",
       "       'MAIN', 'T', 'DEFS', 'THEAD', 'TH', 'MAP', 'AREA', 'CITE',\n",
       "       'PICTURE', 'USE', 'POLYGON', 'AUDIO', 'CLIPPATH', 'LEGEND',\n",
       "       'XDOOR-ICON', 'SYMBOL', 'TWITTER-WIDGET', 'QMT_START', 'QMT_END',\n",
       "       'DL', 'DT', 'S', 'DD', 'SBSTICKY', 'NOBR', 'DAC-IVT-OGV',\n",
       "       'ADDRESS', 'FB:LIKE', 'FB:RECOMMENDATIONS-BAR', 'ELLIPSE',\n",
       "       'LINEARGRADIENT', 'STOP', 'RADIALGRADIENT', 'TQWIDGET', 'IMAGE',\n",
       "       'MENU', 'VIDEOPLAYER', 'AMP-ANIMATION', 'AMP-POSITION-OBSERVER',\n",
       "       'AMP-IMG', 'I-AMPHTML-SIZER', 'AMP-LIST', 'TEMPLATE',\n",
       "       'AMP-SIDEBAR', 'AMP-AD', 'AMP-SOCIAL-SHARE', 'AMP-IFRAME',\n",
       "       'I-AMPHTML-SCROLL-CONTAINER', 'AMP-FACEBOOK-COMMENTS', 'AMP-EMBED',\n",
       "       'AMP-STICKY-AD', 'AMP-STICKY-AD-TOP-PADDING', 'AMP-WEB-PUSH',\n",
       "       'AMP-INSTALL-SERVICEWORKER', 'AMP-USER-NOTIFICATION',\n",
       "       'AMP-WEB-PUSH-WIDGET', 'AMP-DATE-DISPLAY', 'AMP-IMAGE-LIGHTBOX',\n",
       "       'AMP-TWITTER', 'AMP-STATE', 'AMP-ACCORDION', 'AMP-LIVE-LIST',\n",
       "       'AMP-LIGHTBOX', 'AMP-PIXEL', 'AMP-LIGHTBOX-GALLERY', 'OBJECT'],\n",
       "      dtype=object)"
      ]
     },
     "execution_count": 20,
     "metadata": {},
     "output_type": "execute_result"
    }
   ],
   "source": [
    "# some tag names are lowercase. it is better all of them are uppercase.\n",
    "data_content['tagName']=data_content['tagName'].str.upper()\n",
    "data_content['tagName'].unique()"
   ]
  },
  {
   "cell_type": "code",
   "execution_count": 21,
   "metadata": {},
   "outputs": [
    {
     "data": {
      "text/plain": [
       "(44045, 33)"
      ]
     },
     "execution_count": 21,
     "metadata": {},
     "output_type": "execute_result"
    }
   ],
   "source": [
    "tag_content_blacklist=['A', 'IMG', 'H1', 'STRONG', 'H2', 'EM', 'H4',\n",
    "       'TABLE', 'TBODY', 'TR',  'IFRAME', 'BR', 'SCRIPT', 'INPUT',\n",
    "       'LABEL', 'TEXTAREA', 'BUTTON', 'I', 'NOSCRIPT',  'SVG',\n",
    "       'RECT', 'UL', 'LI', 'FORM', 'CIRCLE', 'PATH', 'NAV', 'LINE', 'HR',\n",
    "        'H5', 'FIELDSET', 'FOOTER', 'HEADER', 'H6', 'H3',\n",
    "       'SMALL', 'VIDEO', 'SOURCE', 'ASIDE', 'STYLE', 'SUP', 'TITLE', 'G',\n",
    "       'BLOCKQUOTE', 'FIGURE', 'FIGCAPTION', 'PROGRESS', 'B', 'OL',\n",
    "       'POLYLINE', 'META', 'TEXT', 'TIME', 'INS', 'AMP-ANALYTICS', 'LINK',\n",
    "       'SELECT', 'OPTION', 'ABBR', 'MARQUEE', 'CENTER', 'U', 'FONT',\n",
    "       'MAIN', 'T', 'DEFS', 'THEAD', 'TH', 'MAP', 'AREA', 'CITE',\n",
    "       'PICTURE', 'USE', 'POLYGON', 'AUDIO', 'CLIPPATH', 'LEGEND',\n",
    "       'XDOOR-ICON', 'SYMBOL', 'TWITTER-WIDGET', 'QMT_START', 'QMT_END',\n",
    "       'DL', 'DT', 'S', 'DD', 'SBSTICKY', 'NOBR', 'DAC-IVT-OGV',\n",
    "       'ADDRESS', 'FB:LIKE', 'FB:RECOMMENDATIONS-BAR', 'ELLIPSE',\n",
    "       'LINEARGRADIENT', 'STOP', 'RADIALGRADIENT', 'TQWIDGET', 'IMAGE',\n",
    "       'MENU', 'VIDEOPLAYER', 'AMP-ANIMATION', 'AMP-POSITION-OBSERVER',\n",
    "       'AMP-IMG', 'I-AMPHTML-SIZER', 'AMP-LIST', 'TEMPLATE',\n",
    "       'AMP-SIDEBAR', 'AMP-AD', 'AMP-SOCIAL-SHARE', 'AMP-IFRAME',\n",
    "       'I-AMPHTML-SCROLL-CONTAINER', 'AMP-FACEBOOK-COMMENTS', 'AMP-EMBED',\n",
    "       'AMP-STICKY-AD', 'AMP-STICKY-AD-TOP-PADDING', 'AMP-WEB-PUSH',\n",
    "       'AMP-INSTALL-SERVICEWORKER', 'AMP-USER-NOTIFICATION',\n",
    "       'AMP-WEB-PUSH-WIDGET', 'AMP-DATE-DISPLAY', 'AMP-IMAGE-LIGHTBOX',\n",
    "       'AMP-TWITTER', 'AMP-STATE', 'AMP-ACCORDION', 'AMP-LIVE-LIST',\n",
    "       'AMP-LIGHTBOX', 'AMP-PIXEL', 'AMP-LIGHTBOX-GALLERY', 'OBJECT',\n",
    "       'SUB', 'DEL']\n",
    "data_content=data_content[~data_content['tagName'].isin(tag_content_blacklist)]\n",
    "data_content['tagName']\n",
    "data_content.shape"
   ]
  },
  {
   "cell_type": "code",
   "execution_count": 22,
   "metadata": {},
   "outputs": [
    {
     "name": "stdout",
     "output_type": "stream",
     "text": [
      "DIV\n",
      "start\n",
      "Index(['site', 'left', 'top', 'width', 'height', 'children', 'textCount',\n",
      "       'parentCount', 'fontSize', 'linkCount', 'paragraphCount', 'imageCount',\n",
      "       'colorRed', 'colorGreen', 'colorBlue', 'backgroundRed',\n",
      "       'backgroundGreen', 'backgroundBlue', 'backgroundAlpha', 'marginTop',\n",
      "       'marginRight', 'marginBottom', 'marginLeft', 'paddingTop',\n",
      "       'paddingRight', 'paddingBottom', 'paddingLeft', 'descendants',\n",
      "       'relPosX', 'relPosY', 'content', 'tagName_ARTICLE', 'tagName_DIV',\n",
      "       'tagName_P', 'tagName_SECTION', 'tagName_SPAN', 'tagName_TD',\n",
      "       'textAlign_-webkit-center', 'textAlign_-webkit-left',\n",
      "       'textAlign_-webkit-right', 'textAlign_center', 'textAlign_justify',\n",
      "       'textAlign_left', 'textAlign_right', 'textAlign_start'],\n",
      "      dtype='object')\n"
     ]
    }
   ],
   "source": [
    "print(data_content['tagName'].value_counts().idxmax())\n",
    "print(data_content['textAlign'].value_counts().idxmax())\n",
    "data_content_dummy=pd.get_dummies(data_content,columns=['tagName','textAlign'])\n",
    "print(data_content_dummy.columns)"
   ]
  },
  {
   "cell_type": "code",
   "execution_count": 23,
   "metadata": {},
   "outputs": [
    {
     "name": "stdout",
     "output_type": "stream",
     "text": [
      "Index(['site', 'left', 'top', 'width', 'height', 'children', 'textCount',\n",
      "       'parentCount', 'fontSize', 'linkCount', 'paragraphCount', 'imageCount',\n",
      "       'colorRed', 'colorGreen', 'colorBlue', 'backgroundRed',\n",
      "       'backgroundGreen', 'backgroundBlue', 'backgroundAlpha', 'marginTop',\n",
      "       'marginRight', 'marginBottom', 'marginLeft', 'paddingTop',\n",
      "       'paddingRight', 'paddingBottom', 'paddingLeft', 'descendants',\n",
      "       'relPosX', 'relPosY', 'content', 'tagName_ARTICLE', 'tagName_P',\n",
      "       'tagName_SECTION', 'tagName_SPAN', 'tagName_TD',\n",
      "       'textAlign_-webkit-center', 'textAlign_-webkit-left',\n",
      "       'textAlign_-webkit-right', 'textAlign_center', 'textAlign_justify',\n",
      "       'textAlign_left', 'textAlign_right'],\n",
      "      dtype='object')\n"
     ]
    }
   ],
   "source": [
    "data_content_dummy=data_content_dummy.drop(['tagName_DIV','textAlign_start'],axis=1)\n",
    "print(data_content_dummy.columns)"
   ]
  },
  {
   "cell_type": "code",
   "execution_count": 24,
   "metadata": {},
   "outputs": [],
   "source": [
    "sites_content=data_content_dummy['site']\n",
    "y_content=data_content_dummy['content']\n",
    "X_content=data_content_dummy.drop(['site','content'],axis=1)"
   ]
  },
  {
   "cell_type": "code",
   "execution_count": 25,
   "metadata": {},
   "outputs": [],
   "source": [
    "from sklearn.preprocessing import MinMaxScaler\n",
    "mms_content=MinMaxScaler()\n",
    "X_content_sc=mms_content.fit_transform(X_content)"
   ]
  },
  {
   "cell_type": "code",
   "execution_count": null,
   "metadata": {},
   "outputs": [
    {
     "name": "stdout",
     "output_type": "stream",
     "text": [
      "Starting classifer: 2:41 -  {'model': <class 'sklearn.svm.classes.SVC'>, 'params': [{'kernel': 'rbf', 'C': 0.001, 'gamma': 'scale', 'probability': True, 'random_state': 6}, {'kernel': 'rbf', 'C': 0.01, 'gamma': 'scale', 'probability': True, 'random_state': 6}, {'kernel': 'rbf', 'C': 0.1, 'gamma': 'scale', 'probability': True, 'random_state': 6}, {'kernel': 'rbf', 'C': 1, 'gamma': 'scale', 'probability': True, 'random_state': 6}, {'kernel': 'rbf', 'C': 10, 'gamma': 'scale', 'probability': True, 'random_state': 6}, {'kernel': 'rbf', 'C': 100, 'gamma': 'scale', 'probability': True, 'random_state': 6}, {'kernel': 'sigmoid', 'C': 0.001, 'gamma': 'scale', 'probability': True, 'random_state': 6}, {'kernel': 'sigmoid', 'C': 0.01, 'gamma': 'scale', 'probability': True, 'random_state': 6}, {'kernel': 'sigmoid', 'C': 0.1, 'gamma': 'scale', 'probability': True, 'random_state': 6}, {'kernel': 'sigmoid', 'C': 1, 'gamma': 'scale', 'probability': True, 'random_state': 6}, {'kernel': 'sigmoid', 'C': 10, 'gamma': 'scale', 'probability': True, 'random_state': 6}, {'kernel': 'sigmoid', 'C': 100, 'gamma': 'scale', 'probability': True, 'random_state': 6}]}\n",
      "\tStarting 1 out of 12 testing: 2:41\n",
      "\t\tfold:0, presampled:39662 oversampled:79146\n",
      "\t\tfold:0, time:4965 secs, [0.996, 0.100,0.100,0.100] \n",
      "\t\tfold:1, presampled:39376 oversampled:78574\n",
      "\t\tfold:1, time:4389 secs, [0.996, 0.100,0.100,0.100] \n",
      "\t\tfold:2, presampled:38083 oversampled:75986\n",
      "\t\tfold:2, time:4120 secs, [0.997, 0.100,0.111,0.105] \n",
      "\t\tfold:3, presampled:40318 oversampled:80458\n",
      "\t\tfold:3, time:3526 secs, [0.995, 0.100,0.100,0.100] \n",
      "\t\tfold:4, presampled:41711 oversampled:83244\n",
      "\t\tfold:4, time:3642 secs, [0.992, 0.100,0.100,0.100] \n",
      "\t\tfold:5, presampled:40142 oversampled:80106\n",
      "\t\tfold:5, time:4120 secs, [0.996, 0.200,0.200,0.200] \n",
      "\t\tfold:6, presampled:40684 oversampled:81190\n",
      "\t\tfold:6, time:5048 secs, [0.996, 0.300,0.300,0.300] \n",
      "\t\tfold:7, presampled:38563 oversampled:76948\n"
     ]
    }
   ],
   "source": [
    "kfold=KFoldProba(k=10,random_state=3)\n",
    "kfold.fit(sites_content.to_numpy(),X_content_sc,y_content.to_numpy())\n",
    "result_content=grid_validation(\n",
    "    kfold=kfold,\n",
    "    models=[        \n",
    "        {\n",
    "            'model':SVC,\n",
    "            'params':[\n",
    "                {'kernel':'rbf','C':0.001,'gamma':'scale','probability':True,'random_state':6},\n",
    "                {'kernel':'rbf','C':0.01,'gamma':'scale','probability':True,'random_state':6},\n",
    "                {'kernel':'rbf','C':0.1,'gamma':'scale','probability':True,'random_state':6},\n",
    "                {'kernel':'rbf','C':1,'gamma':'scale','probability':True,'random_state':6},\n",
    "                {'kernel':'rbf','C':10,'gamma':'scale','probability':True,'random_state':6},\n",
    "                {'kernel':'rbf','C':100,'gamma':'scale','probability':True,'random_state':6},\n",
    "                {'kernel':'sigmoid','C':0.001,'gamma':'scale','probability':True,'random_state':6},\n",
    "                {'kernel':'sigmoid','C':0.01,'gamma':'scale','probability':True,'random_state':6},\n",
    "                {'kernel':'sigmoid','C':0.1,'gamma':'scale','probability':True,'random_state':6},\n",
    "                {'kernel':'sigmoid','C':1,'gamma':'scale','probability':True,'random_state':6},\n",
    "                {'kernel':'sigmoid','C':10,'gamma':'scale','probability':True,'random_state':6},\n",
    "                {'kernel':'sigmoid','C':100,'gamma':'scale','probability':True,'random_state':6},\n",
    "            ]\n",
    "        }\n",
    "    ]\n",
    ")"
   ]
  },
  {
   "cell_type": "code",
   "execution_count": null,
   "metadata": {},
   "outputs": [],
   "source": [
    "title_clf=LogisticRegression(penalty='l1',C=1,solver='liblinear',random_state=5)\n",
    "ros_title = RandomOverSampler(random_state=3)\n",
    "train_X_resampled, train_y_resampled = ros_title.fit_resample(X_title_sc,y_title)\n",
    "print(\"\\t\\tpresampled:%d oversampled:%d\"%(X_title.shape[0], train_X_resampled.shape[0]))\n",
    "            \n",
    "title_clf.fit(train_X_resampled,train_y_resampled)\n",
    "\n",
    "pred_proba=title_clf.predict_proba(X_title_sc)\n",
    "y_pred=choose_max_probability(sites_title.to_numpy(),pred_proba)\n",
    "a=metrics.accuracy_score(y_title,y_pred)\n",
    "p=metrics.precision_score(y_title,y_pred)\n",
    "r=metrics.recall_score(y_title,y_pred)\n",
    "f=metrics.f1_score(y_title,y_pred)\n",
    "print('accuracy:%0.3f, precision:%0.3f, recall:%0.3f, f1:%0.3f'%(a,p,r,f))"
   ]
  },
  {
   "cell_type": "code",
   "execution_count": null,
   "metadata": {},
   "outputs": [],
   "source": [
    "from joblib import dump\n",
    "dump(title_clf, 'title_classifier.joblib') "
   ]
  },
  {
   "cell_type": "code",
   "execution_count": null,
   "metadata": {},
   "outputs": [],
   "source": [
    "content_clf=LogisticRegression(penalty='l1',C=1,solver='liblinear',random_state=5)\n",
    "ros_content = RandomOverSampler(random_state=3)\n",
    "train_X_resampled, train_y_resampled = ros_content.fit_resample(X_content_sc,y_content)\n",
    "print(\"\\t\\tpresampled:%d oversampled:%d\"%(X_content.shape[0], train_X_resampled.shape[0]))\n",
    "            \n",
    "content_clf.fit(train_X_resampled,train_y_resampled)\n",
    "\n",
    "pred_proba=content_clf.predict_proba(X_content_sc)\n",
    "y_pred=choose_max_probability(sites_content.to_numpy(),pred_proba)\n",
    "a=metrics.accuracy_score(y_content,y_pred)\n",
    "p=metrics.precision_score(y_content,y_pred)\n",
    "r=metrics.recall_score(y_content,y_pred)\n",
    "f=metrics.f1_score(y_content,y_pred)\n",
    "print('accuracy:%0.3f, precision:%0.3f, recall:%0.3f, f1:%0.3f'%(a,p,r,f))"
   ]
  },
  {
   "cell_type": "code",
   "execution_count": null,
   "metadata": {},
   "outputs": [],
   "source": [
    "dump(content_clf, 'content_classifier.joblib') "
   ]
  },
  {
   "cell_type": "code",
   "execution_count": null,
   "metadata": {},
   "outputs": [],
   "source": [
    "dump(mms_title,\"scaler_title.joblib\")\n",
    "dump(mms_content,\"scaler_content.joblib\")"
   ]
  },
  {
   "cell_type": "code",
   "execution_count": null,
   "metadata": {},
   "outputs": [],
   "source": [
    "import json\n",
    "freq=X_title[['marginTop','marginRight','marginBottom','marginLeft','paddingTop','paddingRight','paddingBottom',\n",
    " 'paddingLeft']].mode().iloc[0].to_dict()\n",
    "cols_title=X_title.columns.values.tolist()\n",
    "cols_content=X_content.columns.values.tolist()\n",
    "\n",
    "f = open(\"datasetinfo.txt\", \"w\")\n",
    "f.write(json.dumps(freq))\n",
    "f.write('\\n')\n",
    "f.write(','.join(cols_title))\n",
    "f.write('\\n')\n",
    "f.write(','.join(tag_blacklist))\n",
    "f.write('\\n')\n",
    "f.write(','.join(cols_content))\n",
    "f.write('\\n')\n",
    "f.write(','.join(tag_content_blacklist))\n",
    "f.close()"
   ]
  },
  {
   "cell_type": "code",
   "execution_count": null,
   "metadata": {},
   "outputs": [],
   "source": []
  }
 ],
 "metadata": {
  "kernelspec": {
   "display_name": "Python 3",
   "language": "python",
   "name": "python3"
  },
  "language_info": {
   "codemirror_mode": {
    "name": "ipython",
    "version": 3
   },
   "file_extension": ".py",
   "mimetype": "text/x-python",
   "name": "python",
   "nbconvert_exporter": "python",
   "pygments_lexer": "ipython3",
   "version": "3.7.5"
  },
  "pycharm": {
   "stem_cell": {
    "cell_type": "raw",
    "metadata": {
     "collapsed": false
    },
    "source": []
   }
  }
 },
 "nbformat": 4,
 "nbformat_minor": 1
}
