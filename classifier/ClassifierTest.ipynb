{
 "cells": [
  {
   "cell_type": "markdown",
   "metadata": {},
   "source": [
    "# New Content extractor\n",
    "\n",
    "In this project, I set a goal to build a model that I can extract title and main textual content from news web page. When we crawl websites to build a search engine or other purpose, it turns out very difficult because if noisy contents not related to the main article. It will be useful for us on that occasions. "
   ]
  },
  {
   "cell_type": "markdown",
   "metadata": {},
   "source": [
    "## Approach\n",
    "When we visit websites, we can distinguish easily title and content of the main article. My goal is to make the machine have that sense. \n",
    "\n",
    "In my opinion, we may make a conclusion based on the visual perception. For example: position on the display, size of the text, color and weight of the text etc. \n",
    "\n",
    "On top of that, I think developers adopt similar practices to build their web pages. There may be some similarity including similar html tags to create similar components, html elements' hierarchical structures etc.\n",
    "\n",
    "Therefore, my model will be trained to understand that sense and similarity.\n",
    "\n",
    "And also one thing to notice is that I will train two models because I am looking for title and contents from the page"
   ]
  },
  {
   "cell_type": "markdown",
   "metadata": {},
   "source": [
    "First, I will train the model on a dataset that is extracted from Mongolian news websites because it was comfortable for me. I hope it will work on any language because HTML is universal and once I reached my goal I will retrain my model on websites from other languages if it is neccessary. "
   ]
  },
  {
   "cell_type": "markdown",
   "metadata": {},
   "source": [
    "## Dataset\n",
    "\n",
    "In order to create my dataset for the training, I wrote a very simple Javascript (Typescript) webscraper which opens a browser (using [puppeteer](https://github.com/GoogleChrome/puppeteer)), loads websites and collects HTML elements and their attributes. You can see my webscraper and its usage from [here](../webscraper)\n",
    "\n",
    "#### Attributes\n",
    "**site**: the website's name from which the element is extracted<br/>\n",
    "**url**: the web url from which the element is extracted<br/>\n",
    "**tagName**:the element's html tag<br/>\n",
    "**left**: X coordinate of the top-left point of the element on the page<br/>\n",
    "**top**:Y coordinate of the top-left point of the element on the page<br/>\n",
    "**width**:the element's width on the page<br/>\n",
    "**height**:the element's height on the page<br/>\n",
    "**children**:count of direct child elements<br/>\n",
    "**textCount**:length of the text in the element<br/>\n",
    "**parentCount**:count of the ancestor elements<br/>\n",
    "**fontSize**:font size of the text<br/>\n",
    "**linkCount**:count of the &#60;a&#62; elements in the element<br/>\n",
    "**paragraphCount**:count of the &#60;p&#62; elements in the element<br/>\n",
    "**imageCount**:count of the &#60;img&#62; elements in the element<br/>\n",
    "**colorRed**:the red attribute of RGB color of the texts in the element<br/>\n",
    "**colorGreen**:the green attribute of RGB color of the texts in the element<br/>\n",
    "**colorBlue**:the blue attribute of RGB color of the texts in the element<br/>\n",
    "**backgroundRed**:the red attribute of RGB color of the background of the element<br/>\n",
    "**backgroundGreen**:the green attribute of RGB color of the background of the element<br/>\n",
    "**backgroundBlue**:the blue attribute of RGB color of the background of the element<br/>\n",
    "**backgroundAlpha**:the transparency attribute of the background of the element<br/>\n",
    "**textAlign**:text alignment of the text in the element<br/>\n",
    "**marginTop**:top margin of the element<br/>\n",
    "**marginRight**:right margin of the element<br/>\n",
    "**marginBottom**:bottom margin of the element<br/>\n",
    "**marginLeft**:left margin of the element<br/>\n",
    "**paddingTop**:top padding of the element<br/>\n",
    "**paddingRight**:right padding of the element<br/>\n",
    "**paddingBottom**:bottom padding of the element<br/>\n",
    "**paddingLeft**:left padding of the element<br/>\n",
    "**descendants**:count of descendant elements<br/>\n",
    "**title**: whether the element is title of the article <br/>\n",
    "**content**:whether the element is main content of the article"
   ]
  },
  {
   "cell_type": "markdown",
   "metadata": {},
   "source": [
    "The dataset is pretty imblanced because in one web page only one element is title and another element is content while page contains from several hundreds to several thousand elements. "
   ]
  },
  {
   "cell_type": "code",
   "execution_count": 1,
   "metadata": {
    "pycharm": {
     "is_executing": false
    }
   },
   "outputs": [
    {
     "name": "stdout",
     "output_type": "stream",
     "text": [
      "Index(['site', 'url', 'tagName', 'left', 'top', 'width', 'height', 'children',\n",
      "       'textCount', 'parentCount', 'fontSize', 'linkCount', 'paragraphCount',\n",
      "       'imageCount', 'colorRed', 'colorGreen', 'colorBlue', 'backgroundRed',\n",
      "       'backgroundGreen', 'backgroundBlue', 'backgroundAlpha', 'textAlign',\n",
      "       'marginTop', 'marginRight', 'marginBottom', 'marginLeft', 'paddingTop',\n",
      "       'paddingRight', 'paddingBottom', 'paddingLeft', 'descendants', 'title',\n",
      "       'content'],\n",
      "      dtype='object')\n",
      "(52275, 33)\n"
     ]
    }
   ],
   "source": [
    "import numpy as np\n",
    "import pandas as pd\n",
    "import matplotlib.pyplot as plt\n",
    "data = pd.read_csv(\"../webscraper/out.csv\", quotechar='\"', skipinitialspace=True)\n",
    "\n",
    "print(data.columns)\n",
    "print(data.shape)"
   ]
  },
  {
   "cell_type": "markdown",
   "metadata": {
    "pycharm": {
     "name": "#%% md\n"
    }
   },
   "source": [
    "## Data Preprocessing"
   ]
  },
  {
   "cell_type": "markdown",
   "metadata": {},
   "source": [
    "In this phase, I will prepare the dataset for the training. "
   ]
  },
  {
   "cell_type": "markdown",
   "metadata": {
    "pycharm": {
     "name": "#%% md\n"
    }
   },
   "source": [
    "### 1. Removing not useful fields.\n",
    "Of course, our model should work free from the web site. So I will remove *url* attribute. The *site* attribute will be used when separating testing and training dataset, so it will be left so far."
   ]
  },
  {
   "cell_type": "code",
   "execution_count": 2,
   "metadata": {
    "pycharm": {
     "is_executing": false,
     "name": "#%%\n"
    }
   },
   "outputs": [
    {
     "data": {
      "text/html": [
       "<div>\n",
       "<style scoped>\n",
       "    .dataframe tbody tr th:only-of-type {\n",
       "        vertical-align: middle;\n",
       "    }\n",
       "\n",
       "    .dataframe tbody tr th {\n",
       "        vertical-align: top;\n",
       "    }\n",
       "\n",
       "    .dataframe thead th {\n",
       "        text-align: right;\n",
       "    }\n",
       "</style>\n",
       "<table border=\"1\" class=\"dataframe\">\n",
       "  <thead>\n",
       "    <tr style=\"text-align: right;\">\n",
       "      <th></th>\n",
       "      <th>site</th>\n",
       "      <th>tagName</th>\n",
       "      <th>left</th>\n",
       "      <th>top</th>\n",
       "      <th>width</th>\n",
       "      <th>height</th>\n",
       "      <th>children</th>\n",
       "      <th>textCount</th>\n",
       "      <th>parentCount</th>\n",
       "      <th>fontSize</th>\n",
       "      <th>...</th>\n",
       "      <th>marginRight</th>\n",
       "      <th>marginBottom</th>\n",
       "      <th>marginLeft</th>\n",
       "      <th>paddingTop</th>\n",
       "      <th>paddingRight</th>\n",
       "      <th>paddingBottom</th>\n",
       "      <th>paddingLeft</th>\n",
       "      <th>descendants</th>\n",
       "      <th>title</th>\n",
       "      <th>content</th>\n",
       "    </tr>\n",
       "  </thead>\n",
       "  <tbody>\n",
       "    <tr>\n",
       "      <td>0</td>\n",
       "      <td>ikon</td>\n",
       "      <td>DIV</td>\n",
       "      <td>0.0</td>\n",
       "      <td>35.0</td>\n",
       "      <td>1920</td>\n",
       "      <td>0</td>\n",
       "      <td>0</td>\n",
       "      <td>0</td>\n",
       "      <td>1</td>\n",
       "      <td>12.0</td>\n",
       "      <td>...</td>\n",
       "      <td>0</td>\n",
       "      <td>0</td>\n",
       "      <td>0</td>\n",
       "      <td>0.0</td>\n",
       "      <td>0.0</td>\n",
       "      <td>0.0</td>\n",
       "      <td>0.0</td>\n",
       "      <td>0</td>\n",
       "      <td>False</td>\n",
       "      <td>False</td>\n",
       "    </tr>\n",
       "    <tr>\n",
       "      <td>1</td>\n",
       "      <td>ikon</td>\n",
       "      <td>DIV</td>\n",
       "      <td>0.0</td>\n",
       "      <td>35.0</td>\n",
       "      <td>1920</td>\n",
       "      <td>6170</td>\n",
       "      <td>2</td>\n",
       "      <td>1300</td>\n",
       "      <td>1</td>\n",
       "      <td>12.0</td>\n",
       "      <td>...</td>\n",
       "      <td>0</td>\n",
       "      <td>0</td>\n",
       "      <td>0</td>\n",
       "      <td>0.0</td>\n",
       "      <td>0.0</td>\n",
       "      <td>0.0</td>\n",
       "      <td>0.0</td>\n",
       "      <td>360</td>\n",
       "      <td>False</td>\n",
       "      <td>False</td>\n",
       "    </tr>\n",
       "    <tr>\n",
       "      <td>2</td>\n",
       "      <td>ikon</td>\n",
       "      <td>DIV</td>\n",
       "      <td>0.0</td>\n",
       "      <td>0.0</td>\n",
       "      <td>1920</td>\n",
       "      <td>60</td>\n",
       "      <td>1</td>\n",
       "      <td>5</td>\n",
       "      <td>2</td>\n",
       "      <td>12.0</td>\n",
       "      <td>...</td>\n",
       "      <td>0</td>\n",
       "      <td>0</td>\n",
       "      <td>0</td>\n",
       "      <td>0.0</td>\n",
       "      <td>0.0</td>\n",
       "      <td>0.0</td>\n",
       "      <td>0.0</td>\n",
       "      <td>18</td>\n",
       "      <td>False</td>\n",
       "      <td>False</td>\n",
       "    </tr>\n",
       "    <tr>\n",
       "      <td>3</td>\n",
       "      <td>ikon</td>\n",
       "      <td>DIV</td>\n",
       "      <td>240.0</td>\n",
       "      <td>0.0</td>\n",
       "      <td>1440</td>\n",
       "      <td>60</td>\n",
       "      <td>3</td>\n",
       "      <td>5</td>\n",
       "      <td>3</td>\n",
       "      <td>12.0</td>\n",
       "      <td>...</td>\n",
       "      <td>240</td>\n",
       "      <td>0</td>\n",
       "      <td>240</td>\n",
       "      <td>0.0</td>\n",
       "      <td>0.0</td>\n",
       "      <td>0.0</td>\n",
       "      <td>0.0</td>\n",
       "      <td>17</td>\n",
       "      <td>False</td>\n",
       "      <td>False</td>\n",
       "    </tr>\n",
       "    <tr>\n",
       "      <td>4</td>\n",
       "      <td>ikon</td>\n",
       "      <td>DIV</td>\n",
       "      <td>258.0</td>\n",
       "      <td>10.0</td>\n",
       "      <td>103</td>\n",
       "      <td>38</td>\n",
       "      <td>1</td>\n",
       "      <td>0</td>\n",
       "      <td>4</td>\n",
       "      <td>12.0</td>\n",
       "      <td>...</td>\n",
       "      <td>0</td>\n",
       "      <td>0</td>\n",
       "      <td>18</td>\n",
       "      <td>0.0</td>\n",
       "      <td>0.0</td>\n",
       "      <td>0.0</td>\n",
       "      <td>0.0</td>\n",
       "      <td>3</td>\n",
       "      <td>False</td>\n",
       "      <td>False</td>\n",
       "    </tr>\n",
       "  </tbody>\n",
       "</table>\n",
       "<p>5 rows × 32 columns</p>\n",
       "</div>"
      ],
      "text/plain": [
       "   site tagName   left   top  width  height  children  textCount  parentCount  \\\n",
       "0  ikon     DIV    0.0  35.0   1920       0         0          0            1   \n",
       "1  ikon     DIV    0.0  35.0   1920    6170         2       1300            1   \n",
       "2  ikon     DIV    0.0   0.0   1920      60         1          5            2   \n",
       "3  ikon     DIV  240.0   0.0   1440      60         3          5            3   \n",
       "4  ikon     DIV  258.0  10.0    103      38         1          0            4   \n",
       "\n",
       "   fontSize  ...  marginRight  marginBottom  marginLeft  paddingTop  \\\n",
       "0      12.0  ...            0             0           0         0.0   \n",
       "1      12.0  ...            0             0           0         0.0   \n",
       "2      12.0  ...            0             0           0         0.0   \n",
       "3      12.0  ...          240             0         240         0.0   \n",
       "4      12.0  ...            0             0          18         0.0   \n",
       "\n",
       "   paddingRight  paddingBottom  paddingLeft  descendants  title  content  \n",
       "0           0.0            0.0          0.0            0  False    False  \n",
       "1           0.0            0.0          0.0          360  False    False  \n",
       "2           0.0            0.0          0.0           18  False    False  \n",
       "3           0.0            0.0          0.0           17  False    False  \n",
       "4           0.0            0.0          0.0            3  False    False  \n",
       "\n",
       "[5 rows x 32 columns]"
      ]
     },
     "execution_count": 2,
     "metadata": {},
     "output_type": "execute_result"
    }
   ],
   "source": [
    "data=data.drop(['url'],axis=1)\n",
    "data.head()"
   ]
  },
  {
   "cell_type": "markdown",
   "metadata": {
    "pycharm": {
     "name": "#%% md\n"
    }
   },
   "source": [
    "### 2.Mapping boolean class to numerical class.\n",
    "*title, content* columns are classes we need to predict. It holds boolean values and it will work with classification. So technically I do not need to map them into numerical values, but I will map them into 0,1 just for convenience."
   ]
  },
  {
   "cell_type": "code",
   "execution_count": 3,
   "metadata": {
    "pycharm": {
     "is_executing": false,
     "name": "#%%\n"
    }
   },
   "outputs": [
    {
     "data": {
      "text/html": [
       "<div>\n",
       "<style scoped>\n",
       "    .dataframe tbody tr th:only-of-type {\n",
       "        vertical-align: middle;\n",
       "    }\n",
       "\n",
       "    .dataframe tbody tr th {\n",
       "        vertical-align: top;\n",
       "    }\n",
       "\n",
       "    .dataframe thead th {\n",
       "        text-align: right;\n",
       "    }\n",
       "</style>\n",
       "<table border=\"1\" class=\"dataframe\">\n",
       "  <thead>\n",
       "    <tr style=\"text-align: right;\">\n",
       "      <th></th>\n",
       "      <th>site</th>\n",
       "      <th>tagName</th>\n",
       "      <th>left</th>\n",
       "      <th>top</th>\n",
       "      <th>width</th>\n",
       "      <th>height</th>\n",
       "      <th>children</th>\n",
       "      <th>textCount</th>\n",
       "      <th>parentCount</th>\n",
       "      <th>fontSize</th>\n",
       "      <th>...</th>\n",
       "      <th>marginRight</th>\n",
       "      <th>marginBottom</th>\n",
       "      <th>marginLeft</th>\n",
       "      <th>paddingTop</th>\n",
       "      <th>paddingRight</th>\n",
       "      <th>paddingBottom</th>\n",
       "      <th>paddingLeft</th>\n",
       "      <th>descendants</th>\n",
       "      <th>title</th>\n",
       "      <th>content</th>\n",
       "    </tr>\n",
       "  </thead>\n",
       "  <tbody>\n",
       "    <tr>\n",
       "      <td>0</td>\n",
       "      <td>ikon</td>\n",
       "      <td>DIV</td>\n",
       "      <td>0.0</td>\n",
       "      <td>35.0</td>\n",
       "      <td>1920</td>\n",
       "      <td>0</td>\n",
       "      <td>0</td>\n",
       "      <td>0</td>\n",
       "      <td>1</td>\n",
       "      <td>12.0</td>\n",
       "      <td>...</td>\n",
       "      <td>0</td>\n",
       "      <td>0</td>\n",
       "      <td>0</td>\n",
       "      <td>0.0</td>\n",
       "      <td>0.0</td>\n",
       "      <td>0.0</td>\n",
       "      <td>0.0</td>\n",
       "      <td>0</td>\n",
       "      <td>0</td>\n",
       "      <td>0</td>\n",
       "    </tr>\n",
       "    <tr>\n",
       "      <td>1</td>\n",
       "      <td>ikon</td>\n",
       "      <td>DIV</td>\n",
       "      <td>0.0</td>\n",
       "      <td>35.0</td>\n",
       "      <td>1920</td>\n",
       "      <td>6170</td>\n",
       "      <td>2</td>\n",
       "      <td>1300</td>\n",
       "      <td>1</td>\n",
       "      <td>12.0</td>\n",
       "      <td>...</td>\n",
       "      <td>0</td>\n",
       "      <td>0</td>\n",
       "      <td>0</td>\n",
       "      <td>0.0</td>\n",
       "      <td>0.0</td>\n",
       "      <td>0.0</td>\n",
       "      <td>0.0</td>\n",
       "      <td>360</td>\n",
       "      <td>0</td>\n",
       "      <td>0</td>\n",
       "    </tr>\n",
       "    <tr>\n",
       "      <td>2</td>\n",
       "      <td>ikon</td>\n",
       "      <td>DIV</td>\n",
       "      <td>0.0</td>\n",
       "      <td>0.0</td>\n",
       "      <td>1920</td>\n",
       "      <td>60</td>\n",
       "      <td>1</td>\n",
       "      <td>5</td>\n",
       "      <td>2</td>\n",
       "      <td>12.0</td>\n",
       "      <td>...</td>\n",
       "      <td>0</td>\n",
       "      <td>0</td>\n",
       "      <td>0</td>\n",
       "      <td>0.0</td>\n",
       "      <td>0.0</td>\n",
       "      <td>0.0</td>\n",
       "      <td>0.0</td>\n",
       "      <td>18</td>\n",
       "      <td>0</td>\n",
       "      <td>0</td>\n",
       "    </tr>\n",
       "    <tr>\n",
       "      <td>3</td>\n",
       "      <td>ikon</td>\n",
       "      <td>DIV</td>\n",
       "      <td>240.0</td>\n",
       "      <td>0.0</td>\n",
       "      <td>1440</td>\n",
       "      <td>60</td>\n",
       "      <td>3</td>\n",
       "      <td>5</td>\n",
       "      <td>3</td>\n",
       "      <td>12.0</td>\n",
       "      <td>...</td>\n",
       "      <td>240</td>\n",
       "      <td>0</td>\n",
       "      <td>240</td>\n",
       "      <td>0.0</td>\n",
       "      <td>0.0</td>\n",
       "      <td>0.0</td>\n",
       "      <td>0.0</td>\n",
       "      <td>17</td>\n",
       "      <td>0</td>\n",
       "      <td>0</td>\n",
       "    </tr>\n",
       "    <tr>\n",
       "      <td>4</td>\n",
       "      <td>ikon</td>\n",
       "      <td>DIV</td>\n",
       "      <td>258.0</td>\n",
       "      <td>10.0</td>\n",
       "      <td>103</td>\n",
       "      <td>38</td>\n",
       "      <td>1</td>\n",
       "      <td>0</td>\n",
       "      <td>4</td>\n",
       "      <td>12.0</td>\n",
       "      <td>...</td>\n",
       "      <td>0</td>\n",
       "      <td>0</td>\n",
       "      <td>18</td>\n",
       "      <td>0.0</td>\n",
       "      <td>0.0</td>\n",
       "      <td>0.0</td>\n",
       "      <td>0.0</td>\n",
       "      <td>3</td>\n",
       "      <td>0</td>\n",
       "      <td>0</td>\n",
       "    </tr>\n",
       "  </tbody>\n",
       "</table>\n",
       "<p>5 rows × 32 columns</p>\n",
       "</div>"
      ],
      "text/plain": [
       "   site tagName   left   top  width  height  children  textCount  parentCount  \\\n",
       "0  ikon     DIV    0.0  35.0   1920       0         0          0            1   \n",
       "1  ikon     DIV    0.0  35.0   1920    6170         2       1300            1   \n",
       "2  ikon     DIV    0.0   0.0   1920      60         1          5            2   \n",
       "3  ikon     DIV  240.0   0.0   1440      60         3          5            3   \n",
       "4  ikon     DIV  258.0  10.0    103      38         1          0            4   \n",
       "\n",
       "   fontSize  ...  marginRight  marginBottom  marginLeft  paddingTop  \\\n",
       "0      12.0  ...            0             0           0         0.0   \n",
       "1      12.0  ...            0             0           0         0.0   \n",
       "2      12.0  ...            0             0           0         0.0   \n",
       "3      12.0  ...          240             0         240         0.0   \n",
       "4      12.0  ...            0             0          18         0.0   \n",
       "\n",
       "   paddingRight  paddingBottom  paddingLeft  descendants  title  content  \n",
       "0           0.0            0.0          0.0            0      0        0  \n",
       "1           0.0            0.0          0.0          360      0        0  \n",
       "2           0.0            0.0          0.0           18      0        0  \n",
       "3           0.0            0.0          0.0           17      0        0  \n",
       "4           0.0            0.0          0.0            3      0        0  \n",
       "\n",
       "[5 rows x 32 columns]"
      ]
     },
     "execution_count": 3,
     "metadata": {},
     "output_type": "execute_result"
    }
   ],
   "source": [
    "class_mapping={False:0,True:1}\n",
    "data['title']=data['title'].map(class_mapping)\n",
    "data['content']=data['content'].map(class_mapping)\n",
    "data.head()"
   ]
  },
  {
   "cell_type": "markdown",
   "metadata": {},
   "source": [
    "### 3. Categorical features.\n",
    "My dataset has two categorical features:tagName,textAlign and both of them are nominal. So I will use one-hot encoding method. And also I will remove the most frequent dummy feature so that it will be possible to ignore them if new tag name or text alignment is introduced on testing or production phase."
   ]
  },
  {
   "cell_type": "markdown",
   "metadata": {},
   "source": [
    "But before to do that, in order to reduce dimentionality I can filter tag names and remove the rows which will never get positive class. "
   ]
  },
  {
   "cell_type": "code",
   "execution_count": 5,
   "metadata": {},
   "outputs": [
    {
     "data": {
      "text/plain": [
       "array(['DIV', 'A', 'SPAN', 'IMG', 'H1', 'P', 'STRONG', 'H2', 'EM', 'H4',\n",
       "       'TABLE', 'TBODY', 'TR', 'TD', 'IFRAME', 'BR', 'SCRIPT', 'INPUT',\n",
       "       'LABEL', 'TEXTAREA', 'BUTTON', 'I', 'NOSCRIPT', 'SECTION', 'SVG',\n",
       "       'RECT', 'UL', 'LI', 'FORM', 'CIRCLE', 'PATH', 'NAV', 'LINE', 'HR',\n",
       "       'ARTICLE', 'H5', 'FIELDSET', 'FOOTER', 'HEADER', 'H6', 'H3',\n",
       "       'SMALL', 'VIDEO', 'SOURCE', 'ASIDE', 'STYLE', 'SUP', 'TITLE', 'G',\n",
       "       'BLOCKQUOTE', 'FIGURE', 'FIGCAPTION', 'PROGRESS', 'B', 'OL',\n",
       "       'META', 'TEXT', 'TIME', 'INS', 'LINK', 'SELECT', 'OPTION', 'ABBR',\n",
       "       'MARQUEE', 'CENTER', 'U', 'FONT', 'MAIN', 'AMP-ANALYTICS', 'DEFS',\n",
       "       'THEAD', 'TH', 'MAP', 'AREA'], dtype=object)"
      ]
     },
     "execution_count": 5,
     "metadata": {},
     "output_type": "execute_result"
    }
   ],
   "source": [
    "# some tag names are lowercase. it is better all of them are uppercase.\n",
    "data['tagName']=data['tagName'].str.upper()\n",
    "data['tagName'].unique()"
   ]
  },
  {
   "cell_type": "code",
   "execution_count": 7,
   "metadata": {},
   "outputs": [],
   "source": [
    "tag_blacklist=['IMG','IFRAME','SCRIPT','INPUT','TEXTAREA','BUTTON','NOSCRIPT','SVG','RECT','FORM','CIRCLE','PATH',\n",
    "              'LINE','HR','FIELDSET','VIDEO','SOURCE','STYLE','SUP','TITLE','G','FIGURE','FIGCAPTION','PROGRESS','META',\n",
    "              'SELECT','OPTION','AMP-ANALYTICS','DEFS','MAP','AREA']\n",
    "data=data[~data['tagName'].isin(tag_blacklist)]"
   ]
  },
  {
   "cell_type": "code",
   "execution_count": 8,
   "metadata": {},
   "outputs": [
    {
     "name": "stdout",
     "output_type": "stream",
     "text": [
      "DIV\n",
      "start\n",
      "Index(['site', 'left', 'top', 'width', 'height', 'children', 'textCount',\n",
      "       'parentCount', 'fontSize', 'linkCount', 'paragraphCount', 'imageCount',\n",
      "       'colorRed', 'colorGreen', 'colorBlue', 'backgroundRed',\n",
      "       'backgroundGreen', 'backgroundBlue', 'backgroundAlpha', 'marginTop',\n",
      "       'marginRight', 'marginBottom', 'marginLeft', 'paddingTop',\n",
      "       'paddingRight', 'paddingBottom', 'paddingLeft', 'descendants', 'title',\n",
      "       'content', 'tagName_A', 'tagName_ABBR', 'tagName_ARTICLE',\n",
      "       'tagName_ASIDE', 'tagName_B', 'tagName_BLOCKQUOTE', 'tagName_BR',\n",
      "       'tagName_CENTER', 'tagName_DIV', 'tagName_EM', 'tagName_FONT',\n",
      "       'tagName_FOOTER', 'tagName_H1', 'tagName_H2', 'tagName_H3',\n",
      "       'tagName_H4', 'tagName_H5', 'tagName_H6', 'tagName_HEADER', 'tagName_I',\n",
      "       'tagName_INS', 'tagName_LABEL', 'tagName_LI', 'tagName_LINK',\n",
      "       'tagName_MAIN', 'tagName_MARQUEE', 'tagName_NAV', 'tagName_OL',\n",
      "       'tagName_P', 'tagName_SECTION', 'tagName_SMALL', 'tagName_SPAN',\n",
      "       'tagName_STRONG', 'tagName_TABLE', 'tagName_TBODY', 'tagName_TD',\n",
      "       'tagName_TEXT', 'tagName_TH', 'tagName_THEAD', 'tagName_TIME',\n",
      "       'tagName_TR', 'tagName_U', 'tagName_UL', 'textAlign_-webkit-center',\n",
      "       'textAlign_-webkit-left', 'textAlign_-webkit-right', 'textAlign_center',\n",
      "       'textAlign_justify', 'textAlign_left', 'textAlign_right',\n",
      "       'textAlign_start'],\n",
      "      dtype='object')\n",
      "Index(['site', 'left', 'top', 'width', 'height', 'children', 'textCount',\n",
      "       'parentCount', 'fontSize', 'linkCount', 'paragraphCount', 'imageCount',\n",
      "       'colorRed', 'colorGreen', 'colorBlue', 'backgroundRed',\n",
      "       'backgroundGreen', 'backgroundBlue', 'backgroundAlpha', 'marginTop',\n",
      "       'marginRight', 'marginBottom', 'marginLeft', 'paddingTop',\n",
      "       'paddingRight', 'paddingBottom', 'paddingLeft', 'descendants', 'title',\n",
      "       'content', 'tagName_A', 'tagName_ABBR', 'tagName_ARTICLE',\n",
      "       'tagName_ASIDE', 'tagName_B', 'tagName_BLOCKQUOTE', 'tagName_BR',\n",
      "       'tagName_CENTER', 'tagName_EM', 'tagName_FONT', 'tagName_FOOTER',\n",
      "       'tagName_H1', 'tagName_H2', 'tagName_H3', 'tagName_H4', 'tagName_H5',\n",
      "       'tagName_H6', 'tagName_HEADER', 'tagName_I', 'tagName_INS',\n",
      "       'tagName_LABEL', 'tagName_LI', 'tagName_LINK', 'tagName_MAIN',\n",
      "       'tagName_MARQUEE', 'tagName_NAV', 'tagName_OL', 'tagName_P',\n",
      "       'tagName_SECTION', 'tagName_SMALL', 'tagName_SPAN', 'tagName_STRONG',\n",
      "       'tagName_TABLE', 'tagName_TBODY', 'tagName_TD', 'tagName_TEXT',\n",
      "       'tagName_TH', 'tagName_THEAD', 'tagName_TIME', 'tagName_TR',\n",
      "       'tagName_U', 'tagName_UL', 'textAlign_-webkit-center',\n",
      "       'textAlign_-webkit-left', 'textAlign_-webkit-right', 'textAlign_center',\n",
      "       'textAlign_justify', 'textAlign_left', 'textAlign_right'],\n",
      "      dtype='object')\n"
     ]
    }
   ],
   "source": [
    "print(data['tagName'].value_counts().idxmax())\n",
    "print(data['textAlign'].value_counts().idxmax())\n",
    "data_dummy=pd.get_dummies(data,columns=['tagName','textAlign'])\n",
    "print(data_dummy.columns)\n",
    "data_dummy=data_dummy.drop(['tagName_DIV','textAlign_start'],axis=1)\n",
    "print(data_dummy.columns)"
   ]
  },
  {
   "cell_type": "markdown",
   "metadata": {},
   "source": [
    "### 4. Specifiying features and target\n",
    "Before transforming features, I need to separate target from features and training dataset from validation dataset."
   ]
  },
  {
   "cell_type": "markdown",
   "metadata": {},
   "source": [
    "1. Splitting training dataset from validation dataset\n",
    "I will split my dataset based on site because elements of same site should be belong to same dataset. "
   ]
  },
  {
   "cell_type": "code",
   "execution_count": 9,
   "metadata": {},
   "outputs": [
    {
     "name": "stdout",
     "output_type": "stream",
     "text": [
      "['medee' 'news1' 'mongolcom' 'niigmiintoli' 'itoim' '24barimt' 'sosa'\n",
      " 'gereg' 'tur' 'inews' 'unen' 'livetv' 'miss' 'peak' 'mminfo' 'tusgaar'\n",
      " 'paparatsi' 'amjilt' 'zindaa' 'asuudal' 'polit' 'mongolcomment'\n",
      " 'newspress' 'gogo' 'murch' 'tonshuul' 'ontslokh' 'arslan' 'inet'\n",
      " 'udriintoim' 'zaluu' 'fact' 'ikon' 'zuv' 'dardas' 'sonin' 'news'\n",
      " 'scandal' 'updown' 'seruuleg' 'newsmedia' 'control' 'bolod' 'olloo'\n",
      " 'unuudur' 'kingnews' 'nertur' 'jirgee' 'shuurhai' 'zarig']\n",
      "Training set: (36383, 79)\n",
      "Training set: (11234, 79)\n"
     ]
    }
   ],
   "source": [
    "sites_unq=data['site'].unique()\n",
    "\n",
    "random=np.random.RandomState(23)\n",
    "random.shuffle(sites_unq)\n",
    "print(sites_unq)\n",
    "size=len(sites_unq)\n",
    "train_size=int(size*.8)\n",
    "\n",
    "train_sites=sites_unq[0:train_size]\n",
    "val_sites=sites_unq[train_size:]\n",
    "\n",
    "data_train=data_dummy[data_dummy['site'].isin(train_sites)]\n",
    "print(\"Training set:\",data_train.shape)\n",
    "data_val=data_dummy[data_dummy['site'].isin(val_sites)]\n",
    "print(\"Training set:\",data_val.shape)"
   ]
  },
  {
   "cell_type": "markdown",
   "metadata": {},
   "source": [
    "2. Now I am going to separate features from target."
   ]
  },
  {
   "cell_type": "code",
   "execution_count": 10,
   "metadata": {},
   "outputs": [
    {
     "name": "stdout",
     "output_type": "stream",
     "text": [
      "sites_train: (36383,)\n",
      "sites_val: (11234,)\n",
      "y_title_train: (36383,)\n",
      "y_title_val: (11234,)\n",
      "y_content_train: (36383,)\n",
      "y_content_val: (11234,)\n",
      "X_train: (36383, 76)\n",
      "X_val: (11234, 76)\n"
     ]
    }
   ],
   "source": [
    "#sites\n",
    "sites_train=data_train['site']\n",
    "sites_val=data_val['site']\n",
    "print('sites_train:',sites_train.shape)\n",
    "print('sites_val:',sites_val.shape)\n",
    "\n",
    "#y title\n",
    "y_title_train=data_train['title']\n",
    "y_title_val=data_val['title']\n",
    "print('y_title_train:',y_title_train.shape)\n",
    "print('y_title_val:',y_title_val.shape)\n",
    "\n",
    "#y content\n",
    "y_content_train=data_train['content']\n",
    "y_content_val=data_val['content']\n",
    "print('y_content_train:',y_content_train.shape)\n",
    "print('y_content_val:',y_content_val.shape)\n",
    "\n",
    "#X\n",
    "X_train=data_train.drop(['title','content','site'],axis=1)\n",
    "X_val=data_val.drop(['title','content','site'],axis=1)\n",
    "print('X_train:',X_train.shape)\n",
    "print('X_val:',X_val.shape)\n",
    "\n"
   ]
  },
  {
   "cell_type": "markdown",
   "metadata": {},
   "source": [
    "### 5. Non-numerical values\n",
    "Now I will make sure that any feature does not have non numerical data."
   ]
  },
  {
   "cell_type": "code",
   "execution_count": 11,
   "metadata": {},
   "outputs": [
    {
     "name": "stdout",
     "output_type": "stream",
     "text": [
      "[dtype('float64') dtype('int64') dtype('O') dtype('uint8')]\n"
     ]
    },
    {
     "data": {
      "text/plain": [
       "Index(['marginTop', 'marginRight', 'marginBottom', 'marginLeft'], dtype='object')"
      ]
     },
     "execution_count": 11,
     "metadata": {},
     "output_type": "execute_result"
    }
   ],
   "source": [
    "print(X_train.dtypes.unique())\n",
    "X_train.columns[X_train.dtypes=='O']"
   ]
  },
  {
   "cell_type": "markdown",
   "metadata": {},
   "source": [
    "According to the result, the features **marginTop, marginRight, marginBottom, marginLeft** contain not numerical data. So now I will work on margins which are supposed to hold continuous values.\n",
    "\n",
    "So lets look what values are that non-numerical values."
   ]
  },
  {
   "cell_type": "code",
   "execution_count": 12,
   "metadata": {},
   "outputs": [
    {
     "name": "stdout",
     "output_type": "stream",
     "text": [
      "marginTop Counter({'auto': 7})\n",
      "marginRight Counter({'auto': 62, '15%': 4, '2%': 3})\n",
      "marginBottom Counter({'auto': 10, '2%': 3})\n",
      "marginLeft Counter({'auto': 60, '15%': 4})\n"
     ]
    }
   ],
   "source": [
    "#margins are not numeric\n",
    "from collections import Counter\n",
    "for c in ['marginTop','marginRight','marginBottom','marginLeft']:\n",
    "    string_values=[]\n",
    "    s=X_train[c]\n",
    "    for index, value in s.items():\n",
    "        try:\n",
    "            float(value)\n",
    "        except ValueError:\n",
    "            string_values.append(value)\n",
    "    print(c,Counter(string_values))\n"
   ]
  },
  {
   "cell_type": "markdown",
   "metadata": {},
   "source": [
    "As for the margins, this values can be changed into the most frequent values."
   ]
  },
  {
   "cell_type": "code",
   "execution_count": 13,
   "metadata": {},
   "outputs": [],
   "source": [
    "for c in ['marginTop','marginRight','marginBottom','marginLeft']:\n",
    "    X_train[c]=pd.to_numeric(X_train[c],errors='coerce')\n",
    "    X_val[c]=pd.to_numeric(X_val[c],errors='coerce')"
   ]
  },
  {
   "cell_type": "code",
   "execution_count": 14,
   "metadata": {},
   "outputs": [
    {
     "name": "stdout",
     "output_type": "stream",
     "text": [
      "   marginTop  marginRight  marginBottom  marginLeft\n",
      "0        0.0          0.0           0.0         0.0\n"
     ]
    }
   ],
   "source": [
    "null_columns=['marginTop','marginRight','marginBottom','marginLeft']\n",
    "print(X_train[null_columns].mode())\n",
    "X_train[null_columns] = X_train[null_columns].fillna(X_train[null_columns].mode().iloc[0])\n",
    "X_train.head()\n",
    "\n",
    "X_val[null_columns]=X_val[null_columns].fillna(X_train[null_columns].mode().iloc[0])"
   ]
  },
  {
   "cell_type": "code",
   "execution_count": null,
   "metadata": {},
   "outputs": [],
   "source": [
    "#print(data.shape)\n",
    "#tag_blacklist=['img','iframe','script','input','textarea','button','noscript','svg','rect','form','circle','path',\n",
    "#              'line','hr','video','source','style','sup','title','g','figure','figcaption','progress','meta',\n",
    "#              'select','option','amp-analytics','defs']\n",
    "#\n",
    "#data=data[~data['tagName'].str.lower().isin(tag_blacklist)]\n",
    "#data.shape"
   ]
  },
  {
   "cell_type": "markdown",
   "metadata": {},
   "source": [
    "### 6. Feature scaling\n",
    "I will also normalize the numerical columns using MinMaxScaler"
   ]
  },
  {
   "cell_type": "code",
   "execution_count": 15,
   "metadata": {
    "pycharm": {
     "name": "#%%\n"
    }
   },
   "outputs": [],
   "source": [
    "from sklearn.preprocessing import MinMaxScaler\n",
    "mms=MinMaxScaler()\n",
    "X_train_sc=mms.fit_transform(X_train)\n",
    "X_val_sc=mms.transform(X_val)\n"
   ]
  },
  {
   "cell_type": "markdown",
   "metadata": {},
   "source": [
    "## Training the model"
   ]
  },
  {
   "cell_type": "markdown",
   "metadata": {},
   "source": [
    "I will train my model using LogisticRegression, SVM and KNN classifiers. "
   ]
  },
  {
   "cell_type": "markdown",
   "metadata": {},
   "source": [
    "### Over Sampling\n",
    "My dataset is quite imbalanced. So if I train the model on this dataset, it will just give me a result which all prediction as negative value. \n",
    "So I used over sampling method to make my training set balanced. "
   ]
  },
  {
   "cell_type": "code",
   "execution_count": 16,
   "metadata": {},
   "outputs": [
    {
     "name": "stdout",
     "output_type": "stream",
     "text": [
      "(72686, 76)\n"
     ]
    }
   ],
   "source": [
    "from imblearn.over_sampling import RandomOverSampler\n",
    "ros_title = RandomOverSampler(random_state=0)\n",
    "X_title_train_resampled, y_title_train_resampled = ros_title.fit_resample(X_train_sc, y_title_train)\n",
    "print(X_title_train_resampled.shape)\n",
    "\n",
    "ros_content=RandomOverSampler(random_state=1)\n",
    "X_content_train_resampled, y_content_train_resampled=ros_content.fit_resample(X_train_sc,y_content_train)"
   ]
  },
  {
   "cell_type": "markdown",
   "metadata": {},
   "source": [
    "### Support vector machine"
   ]
  },
  {
   "cell_type": "code",
   "execution_count": 42,
   "metadata": {},
   "outputs": [
    {
     "name": "stdout",
     "output_type": "stream",
     "text": [
      "Training title:\n",
      "kernel:rbf, C:1, gamma:0.1, accuracy:0.995, precision:0.109, recall:0.700, f1:0.189\n",
      "kernel:rbf, C:1, gamma:0.01, accuracy:0.987, precision:0.058, recall:0.900, f1:0.109\n",
      "kernel:rbf, C:1, gamma:0.001, accuracy:0.988, precision:0.063, recall:0.900, f1:0.118\n",
      "kernel:rbf, C:1, gamma:0.0001, accuracy:0.988, precision:0.065, recall:0.900, f1:0.121\n",
      "kernel:rbf, C:10, gamma:0.1, accuracy:0.995, precision:0.113, recall:0.600, f1:0.190\n",
      "kernel:rbf, C:10, gamma:0.01, accuracy:0.994, precision:0.127, recall:0.900, f1:0.222\n",
      "kernel:rbf, C:10, gamma:0.001, accuracy:0.979, precision:0.037, recall:0.900, f1:0.071\n",
      "kernel:rbf, C:10, gamma:0.0001, accuracy:0.988, precision:0.063, recall:0.900, f1:0.118\n",
      "kernel:rbf, C:100, gamma:0.1, accuracy:0.997, precision:0.061, recall:0.200, f1:0.093\n",
      "kernel:rbf, C:100, gamma:0.01, accuracy:0.995, precision:0.136, recall:0.800, f1:0.232\n",
      "kernel:rbf, C:100, gamma:0.001, accuracy:0.993, precision:0.108, recall:0.900, f1:0.194\n",
      "kernel:rbf, C:100, gamma:0.0001, accuracy:0.979, precision:0.037, recall:0.900, f1:0.071\n",
      "kernel:rbf, C:1000, gamma:0.1, accuracy:0.999, precision:0.750, recall:0.300, f1:0.429\n",
      "kernel:rbf, C:1000, gamma:0.01, accuracy:0.996, precision:0.104, recall:0.500, f1:0.172\n",
      "kernel:rbf, C:1000, gamma:0.001, accuracy:0.994, precision:0.101, recall:0.700, f1:0.177\n",
      "kernel:rbf, C:1000, gamma:0.0001, accuracy:0.993, precision:0.107, recall:0.900, f1:0.191\n",
      "kernel:linear, C:1, gamma:auto_deprecated, accuracy:0.994, precision:0.111, recall:0.800, f1:0.195\n",
      "kernel:linear, C:10, gamma:auto_deprecated, accuracy:0.995, precision:0.111, recall:0.700, f1:0.192\n",
      "kernel:linear, C:100, gamma:auto_deprecated, accuracy:0.998, precision:0.250, recall:0.700, f1:0.368\n",
      "kernel:linear, C:1000, gamma:auto_deprecated, accuracy:0.996, precision:0.130, recall:0.700, f1:0.219\n",
      "kernel:sigmoid, C:1, gamma:0.1, accuracy:0.961, precision:0.018, recall:0.800, f1:0.035\n",
      "kernel:sigmoid, C:1, gamma:0.01, accuracy:0.979, precision:0.040, recall:1.000, f1:0.077\n",
      "kernel:sigmoid, C:1, gamma:0.001, accuracy:0.988, precision:0.063, recall:0.900, f1:0.118\n",
      "kernel:sigmoid, C:1, gamma:0.0001, accuracy:0.990, precision:0.066, recall:0.800, f1:0.121\n",
      "kernel:sigmoid, C:10, gamma:0.1, accuracy:0.939, precision:0.012, recall:0.800, f1:0.023\n",
      "kernel:sigmoid, C:10, gamma:0.01, accuracy:0.993, precision:0.106, recall:0.900, f1:0.189\n",
      "kernel:sigmoid, C:10, gamma:0.001, accuracy:0.979, precision:0.040, recall:1.000, f1:0.078\n",
      "kernel:sigmoid, C:10, gamma:0.0001, accuracy:0.988, precision:0.063, recall:0.900, f1:0.118\n",
      "kernel:sigmoid, C:100, gamma:0.1, accuracy:0.970, precision:0.023, recall:0.800, f1:0.045\n",
      "kernel:sigmoid, C:100, gamma:0.01, accuracy:0.994, precision:0.111, recall:0.800, f1:0.195\n",
      "kernel:sigmoid, C:100, gamma:0.001, accuracy:0.993, precision:0.106, recall:0.900, f1:0.189\n",
      "kernel:sigmoid, C:100, gamma:0.0001, accuracy:0.979, precision:0.040, recall:1.000, f1:0.078\n",
      "kernel:sigmoid, C:1000, gamma:0.1, accuracy:0.970, precision:0.023, recall:0.800, f1:0.045\n",
      "kernel:sigmoid, C:1000, gamma:0.01, accuracy:0.995, precision:0.108, recall:0.700, f1:0.187\n",
      "kernel:sigmoid, C:1000, gamma:0.001, accuracy:0.994, precision:0.111, recall:0.800, f1:0.195\n",
      "kernel:sigmoid, C:1000, gamma:0.0001, accuracy:0.993, precision:0.106, recall:0.900, f1:0.189\n",
      "kernel:poly, C:1, gamma:0.1, accuracy:0.994, precision:0.103, recall:0.800, f1:0.182\n",
      "kernel:poly, C:1, gamma:0.01, accuracy:0.989, precision:0.062, recall:0.800, f1:0.114\n",
      "kernel:poly, C:1, gamma:0.001, accuracy:0.105, precision:0.001, recall:1.000, f1:0.002\n",
      "kernel:poly, C:1, gamma:0.0001, accuracy:0.105, precision:0.001, recall:1.000, f1:0.002\n",
      "kernel:poly, C:10, gamma:0.1, accuracy:0.994, precision:0.082, recall:0.600, f1:0.145\n",
      "kernel:poly, C:10, gamma:0.01, accuracy:0.988, precision:0.061, recall:0.900, f1:0.114\n",
      "kernel:poly, C:10, gamma:0.001, accuracy:0.105, precision:0.001, recall:1.000, f1:0.002\n",
      "kernel:poly, C:10, gamma:0.0001, accuracy:0.105, precision:0.001, recall:1.000, f1:0.002\n",
      "kernel:poly, C:100, gamma:0.1, accuracy:0.995, precision:0.069, recall:0.400, f1:0.118\n",
      "kernel:poly, C:100, gamma:0.01, accuracy:0.987, precision:0.059, recall:0.900, f1:0.110\n",
      "kernel:poly, C:100, gamma:0.001, accuracy:0.105, precision:0.001, recall:1.000, f1:0.002\n",
      "kernel:poly, C:100, gamma:0.0001, accuracy:0.105, precision:0.001, recall:1.000, f1:0.002\n",
      "kernel:poly, C:1000, gamma:0.1, accuracy:0.998, precision:0.214, recall:0.300, f1:0.250\n",
      "kernel:poly, C:1000, gamma:0.01, accuracy:0.994, precision:0.103, recall:0.800, f1:0.182\n",
      "kernel:poly, C:1000, gamma:0.001, accuracy:0.989, precision:0.062, recall:0.800, f1:0.114\n",
      "kernel:poly, C:1000, gamma:0.0001, accuracy:0.105, precision:0.001, recall:1.000, f1:0.002\n",
      "\n",
      "Parameter values for best performance\n",
      "\n",
      "{'kernel': 'rbf', 'gamma': 0.1, 'C': 1, 'Accuracy': 0.9946590706782981, 'Precision': 0.109375, 'Recall': 0.7, 'F1': 0.18918918918918917}\n",
      "Training content:\n",
      "kernel:rbf, C:1, gamma:0.1, accuracy:0.988, precision:0.071, recall:1.000, f1:0.132\n",
      "kernel:rbf, C:1, gamma:0.01, accuracy:0.980, precision:0.043, recall:1.000, f1:0.082\n",
      "kernel:rbf, C:1, gamma:0.001, accuracy:0.857, precision:0.006, recall:0.900, f1:0.011\n",
      "kernel:rbf, C:1, gamma:0.0001, accuracy:0.640, precision:0.002, recall:0.800, f1:0.004\n",
      "kernel:rbf, C:10, gamma:0.1, accuracy:0.996, precision:0.180, recall:0.900, f1:0.300\n",
      "kernel:rbf, C:10, gamma:0.01, accuracy:0.991, precision:0.094, recall:1.000, f1:0.172\n",
      "kernel:rbf, C:10, gamma:0.001, accuracy:0.980, precision:0.043, recall:1.000, f1:0.083\n",
      "kernel:rbf, C:10, gamma:0.0001, accuracy:0.858, precision:0.006, recall:0.900, f1:0.011\n",
      "kernel:rbf, C:100, gamma:0.1, accuracy:0.998, precision:0.333, recall:0.900, f1:0.486\n",
      "kernel:rbf, C:100, gamma:0.01, accuracy:0.996, precision:0.170, recall:0.900, f1:0.286\n",
      "kernel:rbf, C:100, gamma:0.001, accuracy:0.992, precision:0.095, recall:1.000, f1:0.174\n",
      "kernel:rbf, C:100, gamma:0.0001, accuracy:0.981, precision:0.044, recall:1.000, f1:0.085\n",
      "kernel:rbf, C:1000, gamma:0.1, accuracy:0.999, precision:0.444, recall:0.800, f1:0.571\n",
      "kernel:rbf, C:1000, gamma:0.01, accuracy:0.998, precision:0.242, recall:0.800, f1:0.372\n",
      "kernel:rbf, C:1000, gamma:0.001, accuracy:0.994, precision:0.120, recall:0.900, f1:0.212\n",
      "kernel:rbf, C:1000, gamma:0.0001, accuracy:0.992, precision:0.098, recall:1.000, f1:0.179\n",
      "kernel:linear, C:1, gamma:auto_deprecated, accuracy:0.993, precision:0.108, recall:0.900, f1:0.194\n",
      "kernel:linear, C:10, gamma:auto_deprecated, accuracy:0.996, precision:0.173, recall:0.900, f1:0.290\n",
      "kernel:linear, C:100, gamma:auto_deprecated, accuracy:0.996, precision:0.155, recall:0.900, f1:0.265\n",
      "kernel:linear, C:1000, gamma:auto_deprecated, accuracy:0.994, precision:0.123, recall:0.900, f1:0.217\n",
      "kernel:sigmoid, C:1, gamma:0.1, accuracy:0.972, precision:0.027, recall:0.900, f1:0.053\n",
      "kernel:sigmoid, C:1, gamma:0.01, accuracy:0.973, precision:0.031, recall:1.000, f1:0.061\n",
      "kernel:sigmoid, C:1, gamma:0.001, accuracy:0.833, precision:0.005, recall:0.900, f1:0.010\n",
      "kernel:sigmoid, C:1, gamma:0.0001, accuracy:0.613, precision:0.002, recall:0.800, f1:0.004\n",
      "kernel:sigmoid, C:10, gamma:0.1, accuracy:0.963, precision:0.014, recall:0.600, f1:0.028\n",
      "kernel:sigmoid, C:10, gamma:0.01, accuracy:0.990, precision:0.081, recall:1.000, f1:0.149\n",
      "kernel:sigmoid, C:10, gamma:0.001, accuracy:0.973, precision:0.031, recall:1.000, f1:0.061\n",
      "kernel:sigmoid, C:10, gamma:0.0001, accuracy:0.833, precision:0.005, recall:0.900, f1:0.010\n",
      "kernel:sigmoid, C:100, gamma:0.1, accuracy:0.964, precision:0.020, recall:0.800, f1:0.038\n",
      "kernel:sigmoid, C:100, gamma:0.01, accuracy:0.993, precision:0.107, recall:0.900, f1:0.191\n",
      "kernel:sigmoid, C:100, gamma:0.001, accuracy:0.990, precision:0.083, recall:1.000, f1:0.153\n",
      "kernel:sigmoid, C:100, gamma:0.0001, accuracy:0.973, precision:0.032, recall:1.000, f1:0.061\n",
      "kernel:sigmoid, C:1000, gamma:0.1, accuracy:0.964, precision:0.020, recall:0.800, f1:0.039\n",
      "kernel:sigmoid, C:1000, gamma:0.01, accuracy:0.994, precision:0.105, recall:0.800, f1:0.186\n",
      "kernel:sigmoid, C:1000, gamma:0.001, accuracy:0.993, precision:0.108, recall:0.900, f1:0.194\n",
      "kernel:sigmoid, C:1000, gamma:0.0001, accuracy:0.990, precision:0.083, recall:1.000, f1:0.153\n",
      "kernel:poly, C:1, gamma:0.1, accuracy:0.972, precision:0.031, recall:1.000, f1:0.061\n"
     ]
    },
    {
     "name": "stdout",
     "output_type": "stream",
     "text": [
      "kernel:poly, C:1, gamma:0.01, accuracy:0.367, precision:0.001, recall:0.900, f1:0.003\n",
      "kernel:poly, C:1, gamma:0.001, accuracy:0.070, precision:0.001, recall:1.000, f1:0.002\n",
      "kernel:poly, C:1, gamma:0.0001, accuracy:0.070, precision:0.001, recall:1.000, f1:0.002\n",
      "kernel:poly, C:10, gamma:0.1, accuracy:0.992, precision:0.098, recall:1.000, f1:0.179\n",
      "kernel:poly, C:10, gamma:0.01, accuracy:0.712, precision:0.003, recall:0.900, f1:0.006\n",
      "kernel:poly, C:10, gamma:0.001, accuracy:0.070, precision:0.001, recall:1.000, f1:0.002\n",
      "kernel:poly, C:10, gamma:0.0001, accuracy:0.070, precision:0.001, recall:1.000, f1:0.002\n",
      "kernel:poly, C:100, gamma:0.1, accuracy:0.996, precision:0.167, recall:0.900, f1:0.281\n",
      "kernel:poly, C:100, gamma:0.01, accuracy:0.919, precision:0.011, recall:1.000, f1:0.021\n",
      "kernel:poly, C:100, gamma:0.001, accuracy:0.070, precision:0.001, recall:1.000, f1:0.002\n",
      "kernel:poly, C:100, gamma:0.0001, accuracy:0.070, precision:0.001, recall:1.000, f1:0.002\n",
      "kernel:poly, C:1000, gamma:0.1, accuracy:0.997, precision:0.237, recall:0.900, f1:0.375\n",
      "kernel:poly, C:1000, gamma:0.01, accuracy:0.972, precision:0.031, recall:1.000, f1:0.061\n",
      "kernel:poly, C:1000, gamma:0.001, accuracy:0.367, precision:0.001, recall:0.900, f1:0.003\n",
      "kernel:poly, C:1000, gamma:0.0001, accuracy:0.070, precision:0.001, recall:1.000, f1:0.002\n",
      "\n",
      "Parameter values for best performance\n",
      "\n",
      "{'kernel': 'rbf', 'gamma': 0.1, 'C': 1, 'Accuracy': 0.9883389709809507, 'Precision': 0.07092198581560284, 'Recall': 1.0, 'F1': 0.13245033112582782}\n"
     ]
    }
   ],
   "source": [
    "from sklearn.svm import SVC\n",
    "from sklearn.metrics import f1_score,accuracy_score,precision_score,recall_score\n",
    "def train_and_evaluate(svmTesting,args):   \n",
    "    svmTesting.fit(args[0],args[1])\n",
    "    y_pred=svmTesting.predict(args[2])\n",
    "    a=accuracy_score(args[3],y_pred)\n",
    "    p=precision_score(args[3],y_pred)\n",
    "    r=recall_score(args[3],y_pred)\n",
    "    f=f1_score(args[3],y_pred)\n",
    "    print('kernel:%s, C:%s, gamma:%s, accuracy:%0.3f, precision:%0.3f, recall:%0.3f, f1:%0.3f'%(svmTesting.kernel,svmTesting.C,svmTesting.gamma,a,p,r,f))\n",
    "    return a,p,r,f\n",
    "\n",
    "\n",
    "\n",
    "\n",
    "\n",
    "def crossValidation(args):\n",
    "    tuned_parameters = [{'kernel': 'rbf', 'gamma': [1e-1,1e-2,1e-3,1e-4],\n",
    "                     'C': [1, 10, 100, 1000]},\n",
    "                    {'kernel': 'linear', 'C': [1, 10, 100, 1000]},\n",
    "                   {'kernel': 'sigmoid', 'gamma': [1e-1,1e-2,1e-3,1e-4],\n",
    "                     'C': [1, 10, 100, 1000]},\n",
    "                   {'kernel': 'poly', 'gamma': [1e-1,1e-2,1e-3,1e-4],\n",
    "                     'C': [1, 10, 100, 1000]}]\n",
    "\n",
    "    max={'kernel': None, 'gamma': None, 'C':None, 'Accuracy':0, 'Precision':0, 'Recall':0, 'F1':0}\n",
    "    for tp in tuned_parameters:\n",
    "        kernel=tp['kernel']\n",
    "        Cs=tp['C']\n",
    "        for c in Cs:\n",
    "            if 'gamma' in tp:\n",
    "                gammas=tp['gamma']\n",
    "                for gamma in gammas:\n",
    "                    svmTesting=SVC(kernel=kernel,gamma=gamma, C=c)\n",
    "                    cur=train_and_evaluate(svmTesting,args)\n",
    "                    if cur[2]>max['Recall']:\n",
    "                        max={'kernel': kernel, 'gamma': gamma, 'C':c, 'Accuracy':cur[0], 'Precision':cur[1], 'Recall':cur[2], 'F1':cur[3]}\n",
    "            else:\n",
    "                svmTesting=SVC(kernel=kernel, C=c)\n",
    "                cur=train_and_evaluate(svmTesting,args)\n",
    "                if cur[2]>max['Recall']:\n",
    "                        max={'kernel': kernel, 'C':c, 'Accuracy':cur[0], 'Precision':cur[1], 'Recall':cur[2], 'F1':cur[3]}\n",
    "    print()\n",
    "    print('Parameter values for best performance\\n')\n",
    "    print(max)\n",
    "\n",
    "\n",
    "print(\"Training title:\")\n",
    "crossValidation([X_title_train_resampled,y_title_train_resampled,X_val_sc,y_title_val])\n",
    "print(\"Training content:\")\n",
    "crossValidation([X_content_train_resampled,y_content_train_resampled,X_val_sc,y_content_val])\n"
   ]
  },
  {
   "cell_type": "markdown",
   "metadata": {},
   "source": [
    "### KNNeighbour"
   ]
  },
  {
   "cell_type": "code",
   "execution_count": 51,
   "metadata": {},
   "outputs": [
    {
     "name": "stdout",
     "output_type": "stream",
     "text": [
      "Training KKN\n",
      "Training title:\n",
      "weights:uniform, n_neighbors:10, p:2, accuracy:0.995, precision:0.094, recall:0.500, f1:0.159\n",
      "weights:uniform, n_neighbors:10, p:3, accuracy:0.995, precision:0.093, recall:0.500, f1:0.156\n",
      "weights:uniform, n_neighbors:15, p:2, accuracy:0.995, precision:0.093, recall:0.500, f1:0.156\n",
      "weights:uniform, n_neighbors:15, p:3, accuracy:0.995, precision:0.088, recall:0.500, f1:0.149\n",
      "weights:uniform, n_neighbors:20, p:2, accuracy:0.994, precision:0.075, recall:0.500, f1:0.130\n",
      "weights:uniform, n_neighbors:20, p:3, accuracy:0.995, precision:0.085, recall:0.500, f1:0.145\n",
      "weights:uniform, n_neighbors:25, p:2, accuracy:0.993, precision:0.066, recall:0.500, f1:0.116\n",
      "weights:uniform, n_neighbors:25, p:3, accuracy:0.994, precision:0.069, recall:0.500, f1:0.122\n",
      "weights:uniform, n_neighbors:30, p:2, accuracy:0.993, precision:0.066, recall:0.500, f1:0.116\n",
      "weights:uniform, n_neighbors:30, p:3, accuracy:0.994, precision:0.069, recall:0.500, f1:0.122\n",
      "weights:distance, n_neighbors:10, p:2, accuracy:0.995, precision:0.077, recall:0.400, f1:0.129\n",
      "weights:distance, n_neighbors:10, p:3, accuracy:0.995, precision:0.075, recall:0.400, f1:0.127\n",
      "weights:distance, n_neighbors:15, p:2, accuracy:0.995, precision:0.094, recall:0.500, f1:0.159\n",
      "weights:distance, n_neighbors:15, p:3, accuracy:0.995, precision:0.089, recall:0.500, f1:0.152\n",
      "weights:distance, n_neighbors:20, p:2, accuracy:0.995, precision:0.086, recall:0.500, f1:0.147\n",
      "weights:distance, n_neighbors:20, p:3, accuracy:0.995, precision:0.089, recall:0.500, f1:0.152\n",
      "weights:distance, n_neighbors:25, p:2, accuracy:0.994, precision:0.076, recall:0.500, f1:0.132\n",
      "weights:distance, n_neighbors:25, p:3, accuracy:0.995, precision:0.086, recall:0.500, f1:0.147\n",
      "weights:distance, n_neighbors:30, p:2, accuracy:0.993, precision:0.068, recall:0.500, f1:0.119\n",
      "weights:distance, n_neighbors:30, p:3, accuracy:0.994, precision:0.071, recall:0.500, f1:0.125\n",
      "\n",
      "Parameter values for best performance\n",
      "\n",
      "{'weights': 'uniform', 'n_neighbors': 10, 'p': 2, 'Accuracy': 0.9952821790991633, 'Precision': 0.09433962264150944, 'Recall': 0.5, 'F1': 0.15873015873015875}\n",
      "Training content:\n",
      "weights:uniform, n_neighbors:10, p:2, accuracy:0.998, precision:0.278, recall:0.500, f1:0.357\n",
      "weights:uniform, n_neighbors:10, p:3, accuracy:0.998, precision:0.235, recall:0.400, f1:0.296\n",
      "weights:uniform, n_neighbors:15, p:2, accuracy:0.998, precision:0.233, recall:0.700, f1:0.350\n",
      "weights:uniform, n_neighbors:15, p:3, accuracy:0.997, precision:0.206, recall:0.700, f1:0.318\n",
      "weights:uniform, n_neighbors:20, p:2, accuracy:0.997, precision:0.178, recall:0.800, f1:0.291\n",
      "weights:uniform, n_neighbors:20, p:3, accuracy:0.995, precision:0.125, recall:0.800, f1:0.216\n",
      "weights:uniform, n_neighbors:25, p:2, accuracy:0.995, precision:0.148, recall:0.900, f1:0.254\n",
      "weights:uniform, n_neighbors:25, p:3, accuracy:0.994, precision:0.120, recall:0.900, f1:0.212\n",
      "weights:uniform, n_neighbors:30, p:2, accuracy:0.995, precision:0.141, recall:0.900, f1:0.243\n",
      "weights:uniform, n_neighbors:30, p:3, accuracy:0.994, precision:0.117, recall:0.900, f1:0.207\n",
      "weights:distance, n_neighbors:10, p:2, accuracy:0.998, precision:0.278, recall:0.500, f1:0.357\n",
      "weights:distance, n_neighbors:10, p:3, accuracy:0.998, precision:0.235, recall:0.400, f1:0.296\n",
      "weights:distance, n_neighbors:15, p:2, accuracy:0.998, precision:0.259, recall:0.700, f1:0.378\n",
      "weights:distance, n_neighbors:15, p:3, accuracy:0.997, precision:0.188, recall:0.600, f1:0.286\n",
      "weights:distance, n_neighbors:20, p:2, accuracy:0.997, precision:0.200, recall:0.800, f1:0.320\n",
      "weights:distance, n_neighbors:20, p:3, accuracy:0.996, precision:0.167, recall:0.800, f1:0.276\n",
      "weights:distance, n_neighbors:25, p:2, accuracy:0.996, precision:0.164, recall:0.900, f1:0.277\n",
      "weights:distance, n_neighbors:25, p:3, accuracy:0.995, precision:0.138, recall:0.900, f1:0.240\n",
      "weights:distance, n_neighbors:30, p:2, accuracy:0.996, precision:0.158, recall:0.900, f1:0.269\n",
      "weights:distance, n_neighbors:30, p:3, accuracy:0.994, precision:0.123, recall:0.900, f1:0.217\n",
      "\n",
      "Parameter values for best performance\n",
      "\n",
      "{'weights': 'uniform', 'n_neighbors': 25, 'p': 2, 'Accuracy': 0.9952821790991633, 'Precision': 0.14754098360655737, 'Recall': 0.9, 'F1': 0.2535211267605634}\n"
     ]
    }
   ],
   "source": [
    "from sklearn.neighbors import KNeighborsClassifier\n",
    "\n",
    "def train_and_evaluate_knn(knnTesting,args):   \n",
    "    knnTesting.fit(args[0],args[1])\n",
    "    y_pred=knnTesting.predict(args[2])\n",
    "    a=accuracy_score(args[3],y_pred)\n",
    "    p=precision_score(args[3],y_pred)\n",
    "    r=recall_score(args[3],y_pred)\n",
    "    f=f1_score(args[3],y_pred)\n",
    "    print('weights:%s, n_neighbors:%s, p:%s, accuracy:%0.3f, precision:%0.3f, recall:%0.3f, f1:%0.3f'%(knnTesting.weights,knnTesting.n_neighbors,knnTesting.p,a,p,r,f))\n",
    "    return a,p,r,f\n",
    "\n",
    "def crossValidation_knn(args):\n",
    "    tuned_parameters={\n",
    "        'weights':['uniform','distance'],\n",
    "        'n_neighbors':[10,15,20,25,30],\n",
    "        'p':[2,3]\n",
    "    }\n",
    "\n",
    "    max={'weights': None, 'n_neighbors': None, 'p':None, 'Accuracy':0, 'Precision':0, 'Recall':0, 'F1':0}\n",
    "    for w in tuned_parameters['weights']:\n",
    "        for n in tuned_parameters['n_neighbors']:\n",
    "            for p in tuned_parameters['p']:\n",
    "                knnTesting=KNeighborsClassifier(n_neighbors=n,weights=w, p=p)\n",
    "                cur=train_and_evaluate_knn(knnTesting,args)\n",
    "                if cur[2]>max['Recall']:\n",
    "                        max={'weights': w, 'n_neighbors': n, 'p':p, 'Accuracy':cur[0], 'Precision':cur[1], 'Recall':cur[2], 'F1':cur[3]}\n",
    "    print()\n",
    "    print('Parameter values for best performance\\n')\n",
    "    print(max)\n",
    "\n",
    "print(\"Training KKN\")\n",
    "print(\"Training title:\")\n",
    "crossValidation_knn([X_title_train_resampled,y_title_train_resampled,X_val_sc,y_title_val])\n",
    "print(\"Training content:\")\n",
    "crossValidation_knn([X_content_train_resampled,y_content_train_resampled,X_val_sc,y_content_val])"
   ]
  }
 ],
 "metadata": {
  "kernelspec": {
   "display_name": "Python 3",
   "language": "python",
   "name": "python3"
  },
  "language_info": {
   "codemirror_mode": {
    "name": "ipython",
    "version": 3
   },
   "file_extension": ".py",
   "mimetype": "text/x-python",
   "name": "python",
   "nbconvert_exporter": "python",
   "pygments_lexer": "ipython3",
   "version": "3.7.4"
  },
  "pycharm": {
   "stem_cell": {
    "cell_type": "raw",
    "metadata": {
     "collapsed": false
    },
    "source": []
   }
  }
 },
 "nbformat": 4,
 "nbformat_minor": 1
}
